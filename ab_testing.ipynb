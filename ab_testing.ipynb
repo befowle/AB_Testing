{
 "cells": [
  {
   "cell_type": "markdown",
   "metadata": {},
   "source": [
    "# A/B testing with Kaggle product analytics dataset"
   ]
  },
  {
   "cell_type": "markdown",
   "metadata": {},
   "source": [
    "Data provided by Kaggle: https://www.kaggle.com/podsyp/how-to-do-product-analytics\n",
    "\n",
    "Context:\n",
    "\n",
    "Online store of sporting goods: clothing, shoes, accessories and sports nutrition.\n",
    "\n",
    "Content:\n",
    "\n",
    "On the main page of the store they show users banners in order to stimulate their sales. Now one of 5 banners is randomly displayed there. Each banner advertises a specific product or the entire company. Our marketers believe that the experience with banners can vary by segment, and their effectiveness may depend on the characteristics of user behavior.\n",
    "\n",
    "Acknowledgements:\n",
    "\n",
    "The manager of the company had an offer from partners to sell this place for a banner and advertise another service there (payment is assumed according to the CPC (cost-per-click) model).\n",
    "\n",
    "Inspiration:\n",
    "\n",
    "Help the manager make a decision.\n",
    "Does the banner advertised significantly impact the user experience?\n",
    "How do users behave in each segment?"
   ]
  },
  {
   "cell_type": "code",
   "execution_count": 1,
   "metadata": {},
   "outputs": [],
   "source": [
    "#import libraries\n",
    "import pandas as pd\n",
    "import numpy as np\n",
    "import matplotlib.pyplot as plt\n",
    "import seaborn as sns\n",
    "sns.set_style('darkgrid')\n",
    "%matplotlib inline\n",
    "import scipy.stats as stats"
   ]
  },
  {
   "cell_type": "code",
   "execution_count": 2,
   "metadata": {},
   "outputs": [
    {
     "data": {
      "text/html": [
       "<div>\n",
       "<style scoped>\n",
       "    .dataframe tbody tr th:only-of-type {\n",
       "        vertical-align: middle;\n",
       "    }\n",
       "\n",
       "    .dataframe tbody tr th {\n",
       "        vertical-align: top;\n",
       "    }\n",
       "\n",
       "    .dataframe thead th {\n",
       "        text-align: right;\n",
       "    }\n",
       "</style>\n",
       "<table border=\"1\" class=\"dataframe\">\n",
       "  <thead>\n",
       "    <tr style=\"text-align: right;\">\n",
       "      <th></th>\n",
       "      <th>order_id</th>\n",
       "      <th>user_id</th>\n",
       "      <th>page_id</th>\n",
       "      <th>product</th>\n",
       "      <th>site_version</th>\n",
       "      <th>time</th>\n",
       "      <th>title</th>\n",
       "      <th>target</th>\n",
       "    </tr>\n",
       "  </thead>\n",
       "  <tbody>\n",
       "    <tr>\n",
       "      <td>0</td>\n",
       "      <td>cfcd208495d565ef66e7dff9f98764da</td>\n",
       "      <td>c81e728d9d4c2f636f067f89cc14862c</td>\n",
       "      <td>6f4922f45568161a8cdf4ad2299f6d23</td>\n",
       "      <td>sneakers</td>\n",
       "      <td>desktop</td>\n",
       "      <td>2019-01-11 09:24:43</td>\n",
       "      <td>banner_click</td>\n",
       "      <td>0</td>\n",
       "    </tr>\n",
       "    <tr>\n",
       "      <td>1</td>\n",
       "      <td>c4ca4238a0b923820dcc509a6f75849b</td>\n",
       "      <td>eccbc87e4b5ce2fe28308fd9f2a7baf3</td>\n",
       "      <td>4e732ced3463d06de0ca9a15b6153677</td>\n",
       "      <td>sneakers</td>\n",
       "      <td>desktop</td>\n",
       "      <td>2019-01-09 09:38:51</td>\n",
       "      <td>banner_show</td>\n",
       "      <td>0</td>\n",
       "    </tr>\n",
       "    <tr>\n",
       "      <td>2</td>\n",
       "      <td>c81e728d9d4c2f636f067f89cc14862c</td>\n",
       "      <td>eccbc87e4b5ce2fe28308fd9f2a7baf3</td>\n",
       "      <td>5c45a86277b8bf17bff6011be5cfb1b9</td>\n",
       "      <td>sports_nutrition</td>\n",
       "      <td>desktop</td>\n",
       "      <td>2019-01-09 09:12:45</td>\n",
       "      <td>banner_show</td>\n",
       "      <td>0</td>\n",
       "    </tr>\n",
       "    <tr>\n",
       "      <td>3</td>\n",
       "      <td>eccbc87e4b5ce2fe28308fd9f2a7baf3</td>\n",
       "      <td>eccbc87e4b5ce2fe28308fd9f2a7baf3</td>\n",
       "      <td>fb339ad311d50a229e497085aad219c7</td>\n",
       "      <td>company</td>\n",
       "      <td>desktop</td>\n",
       "      <td>2019-01-03 08:58:18</td>\n",
       "      <td>banner_show</td>\n",
       "      <td>0</td>\n",
       "    </tr>\n",
       "    <tr>\n",
       "      <td>4</td>\n",
       "      <td>a87ff679a2f3e71d9181a67b7542122c</td>\n",
       "      <td>eccbc87e4b5ce2fe28308fd9f2a7baf3</td>\n",
       "      <td>fb339ad311d50a229e497085aad219c7</td>\n",
       "      <td>company</td>\n",
       "      <td>desktop</td>\n",
       "      <td>2019-01-03 08:59:15</td>\n",
       "      <td>banner_click</td>\n",
       "      <td>0</td>\n",
       "    </tr>\n",
       "    <tr>\n",
       "      <td>...</td>\n",
       "      <td>...</td>\n",
       "      <td>...</td>\n",
       "      <td>...</td>\n",
       "      <td>...</td>\n",
       "      <td>...</td>\n",
       "      <td>...</td>\n",
       "      <td>...</td>\n",
       "      <td>...</td>\n",
       "    </tr>\n",
       "    <tr>\n",
       "      <td>8471215</td>\n",
       "      <td>70c275428b8d53eef294d0529253b694</td>\n",
       "      <td>59e736f90b5f8003072bf0eb271ddb86</td>\n",
       "      <td>7bc3a33568d00773d5b58d6c7348bf3e</td>\n",
       "      <td>accessories</td>\n",
       "      <td>desktop</td>\n",
       "      <td>2019-05-23 14:07:00</td>\n",
       "      <td>banner_show</td>\n",
       "      <td>0</td>\n",
       "    </tr>\n",
       "    <tr>\n",
       "      <td>8471216</td>\n",
       "      <td>94c9a2a0c11c2b88e49c13e401608c86</td>\n",
       "      <td>69d73bfcaaa83217c903627e602ae01c</td>\n",
       "      <td>f236830bcbb2d279c0c7c3d7f5d3a970</td>\n",
       "      <td>clothes</td>\n",
       "      <td>mobile</td>\n",
       "      <td>2019-05-28 08:10:20</td>\n",
       "      <td>banner_show</td>\n",
       "      <td>0</td>\n",
       "    </tr>\n",
       "    <tr>\n",
       "      <td>8471217</td>\n",
       "      <td>862568e6013bc378b06f43c3e466521a</td>\n",
       "      <td>61728d26a9c9feb9e128c17b400062c8</td>\n",
       "      <td>4fc14437e418f19200e71acf4f34b3ba</td>\n",
       "      <td>sports_nutrition</td>\n",
       "      <td>mobile</td>\n",
       "      <td>2019-05-20 09:20:50</td>\n",
       "      <td>banner_show</td>\n",
       "      <td>0</td>\n",
       "    </tr>\n",
       "    <tr>\n",
       "      <td>8471218</td>\n",
       "      <td>7c70b42806372ba85f47a3956f23a114</td>\n",
       "      <td>f90e8c3bcf3867e65d62a2a08189a35a</td>\n",
       "      <td>c6a3e7758b9c0a43417c4a2c1a4504dd</td>\n",
       "      <td>sneakers</td>\n",
       "      <td>mobile</td>\n",
       "      <td>2019-05-28 19:25:42</td>\n",
       "      <td>banner_show</td>\n",
       "      <td>0</td>\n",
       "    </tr>\n",
       "    <tr>\n",
       "      <td>8471219</td>\n",
       "      <td>523a4286c51e560121455fc040096ef3</td>\n",
       "      <td>4c242cc2c01c9a6cb4b6659e5263c8aa</td>\n",
       "      <td>fa337cd9c198d70261019940f06bf7fb</td>\n",
       "      <td>accessories</td>\n",
       "      <td>mobile</td>\n",
       "      <td>2019-05-31 09:18:24</td>\n",
       "      <td>banner_show</td>\n",
       "      <td>0</td>\n",
       "    </tr>\n",
       "  </tbody>\n",
       "</table>\n",
       "<p>8471220 rows × 8 columns</p>\n",
       "</div>"
      ],
      "text/plain": [
       "                                 order_id                           user_id  \\\n",
       "0        cfcd208495d565ef66e7dff9f98764da  c81e728d9d4c2f636f067f89cc14862c   \n",
       "1        c4ca4238a0b923820dcc509a6f75849b  eccbc87e4b5ce2fe28308fd9f2a7baf3   \n",
       "2        c81e728d9d4c2f636f067f89cc14862c  eccbc87e4b5ce2fe28308fd9f2a7baf3   \n",
       "3        eccbc87e4b5ce2fe28308fd9f2a7baf3  eccbc87e4b5ce2fe28308fd9f2a7baf3   \n",
       "4        a87ff679a2f3e71d9181a67b7542122c  eccbc87e4b5ce2fe28308fd9f2a7baf3   \n",
       "...                                   ...                               ...   \n",
       "8471215  70c275428b8d53eef294d0529253b694  59e736f90b5f8003072bf0eb271ddb86   \n",
       "8471216  94c9a2a0c11c2b88e49c13e401608c86  69d73bfcaaa83217c903627e602ae01c   \n",
       "8471217  862568e6013bc378b06f43c3e466521a  61728d26a9c9feb9e128c17b400062c8   \n",
       "8471218  7c70b42806372ba85f47a3956f23a114  f90e8c3bcf3867e65d62a2a08189a35a   \n",
       "8471219  523a4286c51e560121455fc040096ef3  4c242cc2c01c9a6cb4b6659e5263c8aa   \n",
       "\n",
       "                                  page_id           product site_version  \\\n",
       "0        6f4922f45568161a8cdf4ad2299f6d23          sneakers      desktop   \n",
       "1        4e732ced3463d06de0ca9a15b6153677          sneakers      desktop   \n",
       "2        5c45a86277b8bf17bff6011be5cfb1b9  sports_nutrition      desktop   \n",
       "3        fb339ad311d50a229e497085aad219c7           company      desktop   \n",
       "4        fb339ad311d50a229e497085aad219c7           company      desktop   \n",
       "...                                   ...               ...          ...   \n",
       "8471215  7bc3a33568d00773d5b58d6c7348bf3e       accessories      desktop   \n",
       "8471216  f236830bcbb2d279c0c7c3d7f5d3a970           clothes       mobile   \n",
       "8471217  4fc14437e418f19200e71acf4f34b3ba  sports_nutrition       mobile   \n",
       "8471218  c6a3e7758b9c0a43417c4a2c1a4504dd          sneakers       mobile   \n",
       "8471219  fa337cd9c198d70261019940f06bf7fb       accessories       mobile   \n",
       "\n",
       "                        time         title  target  \n",
       "0        2019-01-11 09:24:43  banner_click       0  \n",
       "1        2019-01-09 09:38:51   banner_show       0  \n",
       "2        2019-01-09 09:12:45   banner_show       0  \n",
       "3        2019-01-03 08:58:18   banner_show       0  \n",
       "4        2019-01-03 08:59:15  banner_click       0  \n",
       "...                      ...           ...     ...  \n",
       "8471215  2019-05-23 14:07:00   banner_show       0  \n",
       "8471216  2019-05-28 08:10:20   banner_show       0  \n",
       "8471217  2019-05-20 09:20:50   banner_show       0  \n",
       "8471218  2019-05-28 19:25:42   banner_show       0  \n",
       "8471219  2019-05-31 09:18:24   banner_show       0  \n",
       "\n",
       "[8471220 rows x 8 columns]"
      ]
     },
     "execution_count": 2,
     "metadata": {},
     "output_type": "execute_result"
    }
   ],
   "source": [
    "## load the dataset\n",
    "df = pd.read_csv('product.csv')\n",
    "df"
   ]
  },
  {
   "cell_type": "markdown",
   "metadata": {},
   "source": [
    "# Explore dataset"
   ]
  },
  {
   "cell_type": "code",
   "execution_count": 3,
   "metadata": {},
   "outputs": [
    {
     "data": {
      "text/plain": [
       "8471220"
      ]
     },
     "execution_count": 3,
     "metadata": {},
     "output_type": "execute_result"
    }
   ],
   "source": [
    "#count number of unique users\n",
    "df.user_id.count()"
   ]
  },
  {
   "cell_type": "code",
   "execution_count": 4,
   "metadata": {
    "scrolled": true
   },
   "outputs": [
    {
     "name": "stdout",
     "output_type": "stream",
     "text": [
      "<class 'pandas.core.frame.DataFrame'>\n",
      "RangeIndex: 8471220 entries, 0 to 8471219\n",
      "Data columns (total 8 columns):\n",
      "order_id        object\n",
      "user_id         object\n",
      "page_id         object\n",
      "product         object\n",
      "site_version    object\n",
      "time            object\n",
      "title           object\n",
      "target          int64\n",
      "dtypes: int64(1), object(7)\n",
      "memory usage: 517.0+ MB\n"
     ]
    }
   ],
   "source": [
    "df.info()"
   ]
  },
  {
   "cell_type": "code",
   "execution_count": 5,
   "metadata": {},
   "outputs": [
    {
     "data": {
      "text/plain": [
       "order_id        0\n",
       "user_id         0\n",
       "page_id         0\n",
       "product         0\n",
       "site_version    0\n",
       "time            0\n",
       "title           0\n",
       "target          0\n",
       "dtype: int64"
      ]
     },
     "execution_count": 5,
     "metadata": {},
     "output_type": "execute_result"
    }
   ],
   "source": [
    "#check for missing values\n",
    "df.isna().sum()"
   ]
  },
  {
   "cell_type": "code",
   "execution_count": 6,
   "metadata": {
    "scrolled": true
   },
   "outputs": [
    {
     "data": {
      "text/html": [
       "<div>\n",
       "<style scoped>\n",
       "    .dataframe tbody tr th:only-of-type {\n",
       "        vertical-align: middle;\n",
       "    }\n",
       "\n",
       "    .dataframe tbody tr th {\n",
       "        vertical-align: top;\n",
       "    }\n",
       "\n",
       "    .dataframe thead th {\n",
       "        text-align: right;\n",
       "    }\n",
       "</style>\n",
       "<table border=\"1\" class=\"dataframe\">\n",
       "  <thead>\n",
       "    <tr style=\"text-align: right;\">\n",
       "      <th></th>\n",
       "      <th>order_id</th>\n",
       "      <th>user_id</th>\n",
       "      <th>page_id</th>\n",
       "      <th>product</th>\n",
       "      <th>site_version</th>\n",
       "      <th>time</th>\n",
       "      <th>title</th>\n",
       "      <th>target</th>\n",
       "    </tr>\n",
       "    <tr>\n",
       "      <th>product</th>\n",
       "      <th></th>\n",
       "      <th></th>\n",
       "      <th></th>\n",
       "      <th></th>\n",
       "      <th></th>\n",
       "      <th></th>\n",
       "      <th></th>\n",
       "      <th></th>\n",
       "    </tr>\n",
       "  </thead>\n",
       "  <tbody>\n",
       "    <tr>\n",
       "      <td>accessories</td>\n",
       "      <td>1621759</td>\n",
       "      <td>1184117</td>\n",
       "      <td>1440955</td>\n",
       "      <td>1</td>\n",
       "      <td>2</td>\n",
       "      <td>1497249</td>\n",
       "      <td>3</td>\n",
       "      <td>2</td>\n",
       "    </tr>\n",
       "    <tr>\n",
       "      <td>clothes</td>\n",
       "      <td>1786438</td>\n",
       "      <td>1236557</td>\n",
       "      <td>1453129</td>\n",
       "      <td>1</td>\n",
       "      <td>2</td>\n",
       "      <td>1637506</td>\n",
       "      <td>3</td>\n",
       "      <td>2</td>\n",
       "    </tr>\n",
       "    <tr>\n",
       "      <td>company</td>\n",
       "      <td>1725056</td>\n",
       "      <td>1256719</td>\n",
       "      <td>1580235</td>\n",
       "      <td>1</td>\n",
       "      <td>2</td>\n",
       "      <td>1586206</td>\n",
       "      <td>2</td>\n",
       "      <td>1</td>\n",
       "    </tr>\n",
       "    <tr>\n",
       "      <td>sneakers</td>\n",
       "      <td>1703342</td>\n",
       "      <td>1206801</td>\n",
       "      <td>1453029</td>\n",
       "      <td>1</td>\n",
       "      <td>2</td>\n",
       "      <td>1566423</td>\n",
       "      <td>3</td>\n",
       "      <td>2</td>\n",
       "    </tr>\n",
       "    <tr>\n",
       "      <td>sports_nutrition</td>\n",
       "      <td>1634625</td>\n",
       "      <td>1187949</td>\n",
       "      <td>1465971</td>\n",
       "      <td>1</td>\n",
       "      <td>2</td>\n",
       "      <td>1507095</td>\n",
       "      <td>3</td>\n",
       "      <td>2</td>\n",
       "    </tr>\n",
       "  </tbody>\n",
       "</table>\n",
       "</div>"
      ],
      "text/plain": [
       "                  order_id  user_id  page_id  product  site_version     time  \\\n",
       "product                                                                        \n",
       "accessories        1621759  1184117  1440955        1             2  1497249   \n",
       "clothes            1786438  1236557  1453129        1             2  1637506   \n",
       "company            1725056  1256719  1580235        1             2  1586206   \n",
       "sneakers           1703342  1206801  1453029        1             2  1566423   \n",
       "sports_nutrition   1634625  1187949  1465971        1             2  1507095   \n",
       "\n",
       "                  title  target  \n",
       "product                          \n",
       "accessories           3       2  \n",
       "clothes               3       2  \n",
       "company               2       1  \n",
       "sneakers              3       2  \n",
       "sports_nutrition      3       2  "
      ]
     },
     "execution_count": 6,
     "metadata": {},
     "output_type": "execute_result"
    }
   ],
   "source": [
    "#there are products - accessories, clothes, sneakers, sports_nutrition\n",
    "df.groupby('product').nunique()\n",
    "\n",
    "# ** REMOVE COMPANY - NOT A PRODUCT"
   ]
  },
  {
   "cell_type": "code",
   "execution_count": 7,
   "metadata": {
    "scrolled": true
   },
   "outputs": [
    {
     "data": {
      "text/html": [
       "<div>\n",
       "<style scoped>\n",
       "    .dataframe tbody tr th:only-of-type {\n",
       "        vertical-align: middle;\n",
       "    }\n",
       "\n",
       "    .dataframe tbody tr th {\n",
       "        vertical-align: top;\n",
       "    }\n",
       "\n",
       "    .dataframe thead th {\n",
       "        text-align: right;\n",
       "    }\n",
       "</style>\n",
       "<table border=\"1\" class=\"dataframe\">\n",
       "  <thead>\n",
       "    <tr style=\"text-align: right;\">\n",
       "      <th></th>\n",
       "      <th>order_id</th>\n",
       "      <th>user_id</th>\n",
       "      <th>page_id</th>\n",
       "      <th>product</th>\n",
       "      <th>site_version</th>\n",
       "      <th>time</th>\n",
       "      <th>title</th>\n",
       "      <th>target</th>\n",
       "    </tr>\n",
       "    <tr>\n",
       "      <th>site_version</th>\n",
       "      <th></th>\n",
       "      <th></th>\n",
       "      <th></th>\n",
       "      <th></th>\n",
       "      <th></th>\n",
       "      <th></th>\n",
       "      <th></th>\n",
       "      <th></th>\n",
       "    </tr>\n",
       "  </thead>\n",
       "  <tbody>\n",
       "    <tr>\n",
       "      <td>desktop</td>\n",
       "      <td>2382885</td>\n",
       "      <td>1424772</td>\n",
       "      <td>2134641</td>\n",
       "      <td>5</td>\n",
       "      <td>1</td>\n",
       "      <td>2125447</td>\n",
       "      <td>3</td>\n",
       "      <td>2</td>\n",
       "    </tr>\n",
       "    <tr>\n",
       "      <td>mobile</td>\n",
       "      <td>6088335</td>\n",
       "      <td>2857187</td>\n",
       "      <td>5258676</td>\n",
       "      <td>5</td>\n",
       "      <td>1</td>\n",
       "      <td>4594580</td>\n",
       "      <td>3</td>\n",
       "      <td>2</td>\n",
       "    </tr>\n",
       "  </tbody>\n",
       "</table>\n",
       "</div>"
      ],
      "text/plain": [
       "              order_id  user_id  page_id  product  site_version     time  \\\n",
       "site_version                                                               \n",
       "desktop        2382885  1424772  2134641        5             1  2125447   \n",
       "mobile         6088335  2857187  5258676        5             1  4594580   \n",
       "\n",
       "              title  target  \n",
       "site_version                 \n",
       "desktop           3       2  \n",
       "mobile            3       2  "
      ]
     },
     "execution_count": 7,
     "metadata": {},
     "output_type": "execute_result"
    }
   ],
   "source": [
    "# there are two site versions - desktop and mobile\n",
    "df.groupby('site_version').nunique()"
   ]
  },
  {
   "cell_type": "code",
   "execution_count": 8,
   "metadata": {},
   "outputs": [
    {
     "data": {
      "text/html": [
       "<div>\n",
       "<style scoped>\n",
       "    .dataframe tbody tr th:only-of-type {\n",
       "        vertical-align: middle;\n",
       "    }\n",
       "\n",
       "    .dataframe tbody tr th {\n",
       "        vertical-align: top;\n",
       "    }\n",
       "\n",
       "    .dataframe thead th {\n",
       "        text-align: right;\n",
       "    }\n",
       "</style>\n",
       "<table border=\"1\" class=\"dataframe\">\n",
       "  <thead>\n",
       "    <tr style=\"text-align: right;\">\n",
       "      <th></th>\n",
       "      <th>order_id</th>\n",
       "      <th>user_id</th>\n",
       "      <th>page_id</th>\n",
       "      <th>product</th>\n",
       "      <th>site_version</th>\n",
       "      <th>time</th>\n",
       "      <th>title</th>\n",
       "      <th>target</th>\n",
       "    </tr>\n",
       "    <tr>\n",
       "      <th>title</th>\n",
       "      <th></th>\n",
       "      <th></th>\n",
       "      <th></th>\n",
       "      <th></th>\n",
       "      <th></th>\n",
       "      <th></th>\n",
       "      <th></th>\n",
       "      <th></th>\n",
       "    </tr>\n",
       "  </thead>\n",
       "  <tbody>\n",
       "    <tr>\n",
       "      <td>banner_click</td>\n",
       "      <td>829184</td>\n",
       "      <td>742458</td>\n",
       "      <td>829184</td>\n",
       "      <td>5</td>\n",
       "      <td>2</td>\n",
       "      <td>795676</td>\n",
       "      <td>1</td>\n",
       "      <td>1</td>\n",
       "    </tr>\n",
       "    <tr>\n",
       "      <td>banner_show</td>\n",
       "      <td>7393314</td>\n",
       "      <td>4254618</td>\n",
       "      <td>7393314</td>\n",
       "      <td>5</td>\n",
       "      <td>2</td>\n",
       "      <td>5273211</td>\n",
       "      <td>1</td>\n",
       "      <td>1</td>\n",
       "    </tr>\n",
       "    <tr>\n",
       "      <td>order</td>\n",
       "      <td>248722</td>\n",
       "      <td>237866</td>\n",
       "      <td>1</td>\n",
       "      <td>4</td>\n",
       "      <td>2</td>\n",
       "      <td>246179</td>\n",
       "      <td>1</td>\n",
       "      <td>1</td>\n",
       "    </tr>\n",
       "  </tbody>\n",
       "</table>\n",
       "</div>"
      ],
      "text/plain": [
       "              order_id  user_id  page_id  product  site_version     time  \\\n",
       "title                                                                      \n",
       "banner_click    829184   742458   829184        5             2   795676   \n",
       "banner_show    7393314  4254618  7393314        5             2  5273211   \n",
       "order           248722   237866        1        4             2   246179   \n",
       "\n",
       "              title  target  \n",
       "title                        \n",
       "banner_click      1       1  \n",
       "banner_show       1       1  \n",
       "order             1       1  "
      ]
     },
     "execution_count": 8,
     "metadata": {},
     "output_type": "execute_result"
    }
   ],
   "source": [
    "#there are three titles, which are types of actions (i think) - banner_click, banner_show, order\n",
    "df.groupby('title').nunique()"
   ]
  },
  {
   "cell_type": "code",
   "execution_count": 9,
   "metadata": {},
   "outputs": [
    {
     "data": {
      "text/html": [
       "<div>\n",
       "<style scoped>\n",
       "    .dataframe tbody tr th:only-of-type {\n",
       "        vertical-align: middle;\n",
       "    }\n",
       "\n",
       "    .dataframe tbody tr th {\n",
       "        vertical-align: top;\n",
       "    }\n",
       "\n",
       "    .dataframe thead th {\n",
       "        text-align: right;\n",
       "    }\n",
       "</style>\n",
       "<table border=\"1\" class=\"dataframe\">\n",
       "  <thead>\n",
       "    <tr style=\"text-align: right;\">\n",
       "      <th></th>\n",
       "      <th>order_id</th>\n",
       "      <th>user_id</th>\n",
       "      <th>page_id</th>\n",
       "      <th>product</th>\n",
       "      <th>site_version</th>\n",
       "      <th>time</th>\n",
       "      <th>title</th>\n",
       "      <th>target</th>\n",
       "    </tr>\n",
       "    <tr>\n",
       "      <th>target</th>\n",
       "      <th></th>\n",
       "      <th></th>\n",
       "      <th></th>\n",
       "      <th></th>\n",
       "      <th></th>\n",
       "      <th></th>\n",
       "      <th></th>\n",
       "      <th></th>\n",
       "    </tr>\n",
       "  </thead>\n",
       "  <tbody>\n",
       "    <tr>\n",
       "      <td>0</td>\n",
       "      <td>8222498</td>\n",
       "      <td>4254619</td>\n",
       "      <td>7393315</td>\n",
       "      <td>5</td>\n",
       "      <td>2</td>\n",
       "      <td>5666540</td>\n",
       "      <td>2</td>\n",
       "      <td>1</td>\n",
       "    </tr>\n",
       "    <tr>\n",
       "      <td>1</td>\n",
       "      <td>248722</td>\n",
       "      <td>237866</td>\n",
       "      <td>1</td>\n",
       "      <td>4</td>\n",
       "      <td>2</td>\n",
       "      <td>246179</td>\n",
       "      <td>1</td>\n",
       "      <td>1</td>\n",
       "    </tr>\n",
       "  </tbody>\n",
       "</table>\n",
       "</div>"
      ],
      "text/plain": [
       "        order_id  user_id  page_id  product  site_version     time  title  \\\n",
       "target                                                                      \n",
       "0        8222498  4254619  7393315        5             2  5666540      2   \n",
       "1         248722   237866        1        4             2   246179      1   \n",
       "\n",
       "        target  \n",
       "target          \n",
       "0            1  \n",
       "1            1  "
      ]
     },
     "execution_count": 9,
     "metadata": {},
     "output_type": "execute_result"
    }
   ],
   "source": [
    "# there are two targets\n",
    "df.groupby('target').nunique()"
   ]
  },
  {
   "cell_type": "code",
   "execution_count": 10,
   "metadata": {},
   "outputs": [],
   "source": [
    "## explore distributions"
   ]
  },
  {
   "cell_type": "code",
   "execution_count": 11,
   "metadata": {},
   "outputs": [],
   "source": [
    "## what is the research question"
   ]
  },
  {
   "cell_type": "code",
   "execution_count": 12,
   "metadata": {},
   "outputs": [],
   "source": [
    "## perform hypothesis tests\n",
    "##welch_t(a,b)\n",
    "##welch_df(a,b)\n",
    "##p_value(a,b, two_sided=False) <-- this is 2x the p value from a 1sided test\n"
   ]
  },
  {
   "cell_type": "code",
   "execution_count": 13,
   "metadata": {},
   "outputs": [],
   "source": [
    "#subset the appropriate data into 2 groups"
   ]
  },
  {
   "cell_type": "code",
   "execution_count": 14,
   "metadata": {},
   "outputs": [],
   "source": [
    "#investigate percentiles"
   ]
  },
  {
   "cell_type": "markdown",
   "metadata": {},
   "source": [
    "# ML algorithms for analytics"
   ]
  },
  {
   "cell_type": "markdown",
   "metadata": {},
   "source": [
    "from https://www.kaggle.com/podsyp/simple-start-trivial-ml-algorithms-for-analytics"
   ]
  },
  {
   "cell_type": "code",
   "execution_count": 15,
   "metadata": {},
   "outputs": [],
   "source": [
    "import datetime\n",
    "\n",
    "#import pandas_summary as ps\n",
    "import matplotlib.pyplot as plt\n",
    "import seaborn as sns\n",
    "%matplotlib inline\n",
    "\n",
    "from sklearn.linear_model import LogisticRegression\n",
    "from sklearn.neighbors import KNeighborsClassifier\n",
    "from sklearn.naive_bayes import BernoulliNB\n",
    "from sklearn.ensemble import RandomForestClassifier\n",
    "from sklearn.feature_selection import SelectKBest, f_classif, chi2\n",
    "from sklearn.model_selection import train_test_split, cross_val_score\n",
    "from sklearn.model_selection import GridSearchCV\n",
    "from sklearn import metrics\n",
    "from sklearn import preprocessing\n",
    "from sklearn.preprocessing import MinMaxScaler\n",
    "from xgboost.sklearn import XGBClassifier\n",
    "from xgboost import plot_importance\n",
    "\n",
    "pd.set_option('display.max_rows', 500)\n",
    "pd.set_option('display.max_columns', 500)\n",
    "pd.set_option('display.width', 1000)\n",
    "pd.set_option('use_inf_as_na', True)\n",
    "random_state = 17"
   ]
  },
  {
   "cell_type": "code",
   "execution_count": 16,
   "metadata": {},
   "outputs": [],
   "source": [
    "df['time'] = df['time'].apply(pd.to_datetime)"
   ]
  },
  {
   "cell_type": "code",
   "execution_count": 17,
   "metadata": {},
   "outputs": [
    {
     "name": "stdout",
     "output_type": "stream",
     "text": [
      "order_id\n",
      "1    8471220\n",
      "dtype: int64\n",
      "\n",
      "\n",
      "page_id\n",
      "1    8471220\n",
      "dtype: int64\n",
      "\n",
      "\n",
      "title\n",
      "banner_show     7393314\n",
      "banner_click     829184\n",
      "order            248722\n",
      "dtype: int64\n"
     ]
    },
    {
     "data": {
      "image/png": "[encoded data removed]",
      "text/plain": [
       "<Figure size 432x288 with 1 Axes>"
      ]
     },
     "metadata": {
      "needs_background": "light"
     },
     "output_type": "display_data"
    }
   ],
   "source": [
    "for i in ('order_id', 'page_id'):\n",
    "        df[i] = df[i].fillna(0).apply(lambda x: X if x == 0 else 1)\n",
    "        print(df.groupby([i]).size().sort_values(ascending=False).head(2))\n",
    "        print('\\n')\n",
    "print(df.groupby(['title']).size().sort_values(ascending=False).head())\n",
    "sns.countplot('title', data=df)\n",
    "plt.show();\n",
    "df.drop(['order_id', 'page_id'], axis=1, inplace=True)"
   ]
  },
  {
   "cell_type": "markdown",
   "metadata": {},
   "source": [
    "Create two binary features:\n",
    "1) if a client ever clicked on a banner\n",
    "2) if it is the client's first conversion"
   ]
  },
  {
   "cell_type": "code",
   "execution_count": 18,
   "metadata": {},
   "outputs": [
    {
     "data": {
      "image/png": "[encoded data removed]",
      "text/plain": [
       "<Figure size 432x288 with 1 Axes>"
      ]
     },
     "metadata": {
      "needs_background": "light"
     },
     "output_type": "display_data"
    }
   ],
   "source": [
    "df = df.assign(num_conversion=df.groupby(['user_id'])['time'].rank(method='first', ascending=True))\n",
    "sns.countplot('num_conversion', data=df)\n",
    "plt.show();\n",
    "df['IsBanner_click'] = df['title'].apply(lambda x: 1 if x == 'banner_click' else 0)\n",
    "df['IsBanner_click'] = df.groupby('user_id').IsBanner_click.transform(np.mean).apply(lambda x: 0 if x == 0 else 1)\n",
    "df['IsFirst_conversion'] = df['num_conversion'].apply(lambda x: 1 if x == 1 else 0)\n",
    "df.drop(['user_id', 'title'], axis=1, inplace=True)"
   ]
  },
  {
   "cell_type": "code",
   "execution_count": 19,
   "metadata": {},
   "outputs": [
    {
     "data": {
      "text/html": [
       "<div>\n",
       "<style scoped>\n",
       "    .dataframe tbody tr th:only-of-type {\n",
       "        vertical-align: middle;\n",
       "    }\n",
       "\n",
       "    .dataframe tbody tr th {\n",
       "        vertical-align: top;\n",
       "    }\n",
       "\n",
       "    .dataframe thead th {\n",
       "        text-align: right;\n",
       "    }\n",
       "</style>\n",
       "<table border=\"1\" class=\"dataframe\">\n",
       "  <thead>\n",
       "    <tr style=\"text-align: right;\">\n",
       "      <th></th>\n",
       "      <th>product</th>\n",
       "      <th>site_version</th>\n",
       "      <th>time</th>\n",
       "      <th>target</th>\n",
       "      <th>num_conversion</th>\n",
       "      <th>IsBanner_click</th>\n",
       "      <th>IsFirst_conversion</th>\n",
       "    </tr>\n",
       "  </thead>\n",
       "  <tbody>\n",
       "    <tr>\n",
       "      <td>0</td>\n",
       "      <td>sneakers</td>\n",
       "      <td>desktop</td>\n",
       "      <td>2019-01-11 09:24:43</td>\n",
       "      <td>0</td>\n",
       "      <td>1.0</td>\n",
       "      <td>1</td>\n",
       "      <td>1</td>\n",
       "    </tr>\n",
       "    <tr>\n",
       "      <td>1</td>\n",
       "      <td>sneakers</td>\n",
       "      <td>desktop</td>\n",
       "      <td>2019-01-09 09:38:51</td>\n",
       "      <td>0</td>\n",
       "      <td>4.0</td>\n",
       "      <td>1</td>\n",
       "      <td>0</td>\n",
       "    </tr>\n",
       "    <tr>\n",
       "      <td>2</td>\n",
       "      <td>sports_nutrition</td>\n",
       "      <td>desktop</td>\n",
       "      <td>2019-01-09 09:12:45</td>\n",
       "      <td>0</td>\n",
       "      <td>3.0</td>\n",
       "      <td>1</td>\n",
       "      <td>0</td>\n",
       "    </tr>\n",
       "    <tr>\n",
       "      <td>3</td>\n",
       "      <td>company</td>\n",
       "      <td>desktop</td>\n",
       "      <td>2019-01-03 08:58:18</td>\n",
       "      <td>0</td>\n",
       "      <td>1.0</td>\n",
       "      <td>1</td>\n",
       "      <td>1</td>\n",
       "    </tr>\n",
       "    <tr>\n",
       "      <td>4</td>\n",
       "      <td>company</td>\n",
       "      <td>desktop</td>\n",
       "      <td>2019-01-03 08:59:15</td>\n",
       "      <td>0</td>\n",
       "      <td>2.0</td>\n",
       "      <td>1</td>\n",
       "      <td>0</td>\n",
       "    </tr>\n",
       "  </tbody>\n",
       "</table>\n",
       "</div>"
      ],
      "text/plain": [
       "            product site_version                time  target  num_conversion  IsBanner_click  IsFirst_conversion\n",
       "0          sneakers      desktop 2019-01-11 09:24:43       0             1.0               1                   1\n",
       "1          sneakers      desktop 2019-01-09 09:38:51       0             4.0               1                   0\n",
       "2  sports_nutrition      desktop 2019-01-09 09:12:45       0             3.0               1                   0\n",
       "3           company      desktop 2019-01-03 08:58:18       0             1.0               1                   1\n",
       "4           company      desktop 2019-01-03 08:59:15       0             2.0               1                   0"
      ]
     },
     "execution_count": 19,
     "metadata": {},
     "output_type": "execute_result"
    }
   ],
   "source": [
    "df.head()"
   ]
  },
  {
   "cell_type": "markdown",
   "metadata": {},
   "source": [
    "Working with Dates\n",
    "\n",
    "-Seasonality (binary time_IsMorning, time_IsDaylight, time_IsEvening, time_IsNight)\n",
    "\n",
    "-Time of day (binary time_IsWinter)\n",
    "\n",
    "-Hour time_Hour\n",
    "\n",
    "-Day number in the month time_Day\n",
    "\n",
    "-Day number in the week time_Week_Day\n",
    "\n",
    "-Year * 100 + Month time_Year_Month"
   ]
  },
  {
   "cell_type": "code",
   "execution_count": 20,
   "metadata": {},
   "outputs": [],
   "source": [
    "df['time_IsMorning'] = df['time'].apply(lambda ts: 1 if (ts.hour >= 6) and (ts.hour < 10) else 0)\n",
    "df['time_IsDaylight'] = df['time'].apply(lambda ts: 1 if (ts.hour >= 10) and (ts.hour < 16) else 0)\n",
    "df['time_IsEvening'] = df['time'].apply(lambda ts: 1 if (ts.hour >= 16) and (ts.hour < 23) else 0)\n",
    "df['time_Hour'] = df['time'].apply(lambda ts: ts.hour)\n",
    "df['time_Day'] = df['time'].apply(lambda ts: ts.day)\n",
    "df['time_Week_Day'] = df['time'].apply(lambda ts: datetime.date(ts.year, ts.month, ts.day).weekday() + 1)\n",
    "df['time_Year_Month'] = df['time'].apply(lambda ts: ts.year * 100 + ts.month)\n",
    "df.drop(['time'], axis=1, inplace=True)"
   ]
  },
  {
   "cell_type": "code",
   "execution_count": 21,
   "metadata": {},
   "outputs": [
    {
     "data": {
      "text/html": [
       "<div>\n",
       "<style scoped>\n",
       "    .dataframe tbody tr th:only-of-type {\n",
       "        vertical-align: middle;\n",
       "    }\n",
       "\n",
       "    .dataframe tbody tr th {\n",
       "        vertical-align: top;\n",
       "    }\n",
       "\n",
       "    .dataframe thead th {\n",
       "        text-align: right;\n",
       "    }\n",
       "</style>\n",
       "<table border=\"1\" class=\"dataframe\">\n",
       "  <thead>\n",
       "    <tr style=\"text-align: right;\">\n",
       "      <th></th>\n",
       "      <th>product</th>\n",
       "      <th>site_version</th>\n",
       "      <th>target</th>\n",
       "      <th>num_conversion</th>\n",
       "      <th>IsBanner_click</th>\n",
       "      <th>IsFirst_conversion</th>\n",
       "      <th>time_IsMorning</th>\n",
       "      <th>time_IsDaylight</th>\n",
       "      <th>time_IsEvening</th>\n",
       "      <th>time_Hour</th>\n",
       "      <th>time_Day</th>\n",
       "      <th>time_Week_Day</th>\n",
       "      <th>time_Year_Month</th>\n",
       "    </tr>\n",
       "  </thead>\n",
       "  <tbody>\n",
       "    <tr>\n",
       "      <td>0</td>\n",
       "      <td>sneakers</td>\n",
       "      <td>desktop</td>\n",
       "      <td>0</td>\n",
       "      <td>1.0</td>\n",
       "      <td>1</td>\n",
       "      <td>1</td>\n",
       "      <td>1</td>\n",
       "      <td>0</td>\n",
       "      <td>0</td>\n",
       "      <td>9</td>\n",
       "      <td>11</td>\n",
       "      <td>5</td>\n",
       "      <td>201901</td>\n",
       "    </tr>\n",
       "    <tr>\n",
       "      <td>1</td>\n",
       "      <td>sneakers</td>\n",
       "      <td>desktop</td>\n",
       "      <td>0</td>\n",
       "      <td>4.0</td>\n",
       "      <td>1</td>\n",
       "      <td>0</td>\n",
       "      <td>1</td>\n",
       "      <td>0</td>\n",
       "      <td>0</td>\n",
       "      <td>9</td>\n",
       "      <td>9</td>\n",
       "      <td>3</td>\n",
       "      <td>201901</td>\n",
       "    </tr>\n",
       "    <tr>\n",
       "      <td>2</td>\n",
       "      <td>sports_nutrition</td>\n",
       "      <td>desktop</td>\n",
       "      <td>0</td>\n",
       "      <td>3.0</td>\n",
       "      <td>1</td>\n",
       "      <td>0</td>\n",
       "      <td>1</td>\n",
       "      <td>0</td>\n",
       "      <td>0</td>\n",
       "      <td>9</td>\n",
       "      <td>9</td>\n",
       "      <td>3</td>\n",
       "      <td>201901</td>\n",
       "    </tr>\n",
       "    <tr>\n",
       "      <td>3</td>\n",
       "      <td>company</td>\n",
       "      <td>desktop</td>\n",
       "      <td>0</td>\n",
       "      <td>1.0</td>\n",
       "      <td>1</td>\n",
       "      <td>1</td>\n",
       "      <td>1</td>\n",
       "      <td>0</td>\n",
       "      <td>0</td>\n",
       "      <td>8</td>\n",
       "      <td>3</td>\n",
       "      <td>4</td>\n",
       "      <td>201901</td>\n",
       "    </tr>\n",
       "    <tr>\n",
       "      <td>4</td>\n",
       "      <td>company</td>\n",
       "      <td>desktop</td>\n",
       "      <td>0</td>\n",
       "      <td>2.0</td>\n",
       "      <td>1</td>\n",
       "      <td>0</td>\n",
       "      <td>1</td>\n",
       "      <td>0</td>\n",
       "      <td>0</td>\n",
       "      <td>8</td>\n",
       "      <td>3</td>\n",
       "      <td>4</td>\n",
       "      <td>201901</td>\n",
       "    </tr>\n",
       "  </tbody>\n",
       "</table>\n",
       "</div>"
      ],
      "text/plain": [
       "            product site_version  target  num_conversion  IsBanner_click  IsFirst_conversion  time_IsMorning  time_IsDaylight  time_IsEvening  time_Hour  time_Day  time_Week_Day  time_Year_Month\n",
       "0          sneakers      desktop       0             1.0               1                   1               1                0               0          9        11              5           201901\n",
       "1          sneakers      desktop       0             4.0               1                   0               1                0               0          9         9              3           201901\n",
       "2  sports_nutrition      desktop       0             3.0               1                   0               1                0               0          9         9              3           201901\n",
       "3           company      desktop       0             1.0               1                   1               1                0               0          8         3              4           201901\n",
       "4           company      desktop       0             2.0               1                   0               1                0               0          8         3              4           201901"
      ]
     },
     "execution_count": 21,
     "metadata": {},
     "output_type": "execute_result"
    }
   ],
   "source": [
    "df.head()"
   ]
  },
  {
   "cell_type": "code",
   "execution_count": 22,
   "metadata": {},
   "outputs": [
    {
     "name": "stdout",
     "output_type": "stream",
     "text": [
      "\n",
      "\n",
      "product\n",
      "clothes             1786438\n",
      "company             1725056\n",
      "sneakers            1703342\n",
      "sports_nutrition    1634625\n",
      "accessories         1621759\n",
      "dtype: int64\n"
     ]
    },
    {
     "data": {
      "image/png": "[encoded data removed]",
      "text/plain": [
       "<Figure size 432x288 with 1 Axes>"
      ]
     },
     "metadata": {
      "needs_background": "light"
     },
     "output_type": "display_data"
    },
    {
     "name": "stdout",
     "output_type": "stream",
     "text": [
      "\n",
      "\n",
      "site_version\n",
      "mobile     6088335\n",
      "desktop    2382885\n",
      "dtype: int64\n"
     ]
    },
    {
     "data": {
      "image/png": "[encoded data removed]",
      "text/plain": [
       "<Figure size 432x288 with 1 Axes>"
      ]
     },
     "metadata": {
      "needs_background": "light"
     },
     "output_type": "display_data"
    }
   ],
   "source": [
    "for i in ['product', 'site_version']:\n",
    "    print('\\n')\n",
    "    print(df.groupby([i]).size().sort_values(ascending=False).head())\n",
    "    sns.countplot(i, data=df)\n",
    "    plt.show()"
   ]
  },
  {
   "cell_type": "code",
   "execution_count": 23,
   "metadata": {},
   "outputs": [],
   "source": [
    "#map version to numeric\n",
    "df['SV_IsMobile'] = df['site_version'].map({'desktop': 0, 'mobile': 1})\n",
    "df.drop(['site_version'], axis=1, inplace=True)"
   ]
  },
  {
   "cell_type": "code",
   "execution_count": 24,
   "metadata": {},
   "outputs": [],
   "source": [
    "#one hot encode products\n",
    "df = pd.get_dummies(df, columns=['product'])"
   ]
  },
  {
   "cell_type": "code",
   "execution_count": 25,
   "metadata": {},
   "outputs": [
    {
     "name": "stdout",
     "output_type": "stream",
     "text": [
      "<class 'pandas.core.frame.DataFrame'>\n",
      "RangeIndex: 8471220 entries, 0 to 8471219\n",
      "Data columns (total 17 columns):\n",
      "target                      int64\n",
      "num_conversion              float64\n",
      "IsBanner_click              int64\n",
      "IsFirst_conversion          int64\n",
      "time_IsMorning              int64\n",
      "time_IsDaylight             int64\n",
      "time_IsEvening              int64\n",
      "time_Hour                   int64\n",
      "time_Day                    int64\n",
      "time_Week_Day               int64\n",
      "time_Year_Month             int64\n",
      "SV_IsMobile                 int64\n",
      "product_accessories         uint8\n",
      "product_clothes             uint8\n",
      "product_company             uint8\n",
      "product_sneakers            uint8\n",
      "product_sports_nutrition    uint8\n",
      "dtypes: float64(1), int64(11), uint8(5)\n",
      "memory usage: 816.0 MB\n"
     ]
    }
   ],
   "source": [
    "df.info()"
   ]
  },
  {
   "cell_type": "code",
   "execution_count": 26,
   "metadata": {},
   "outputs": [],
   "source": [
    "#get dataframe summary\n",
    "#dfs = ps.DataFrameSummary(full_df)\n",
    "#print('categoricals: ', dfs.categoricals.tolist())\n",
    "#print('numerics: ', dfs.numerics.tolist())\n",
    "#dfs.summary()\n",
    "\n",
    "#ERROR: ps not defined, 'pandas summary' not a module"
   ]
  },
  {
   "cell_type": "code",
   "execution_count": 27,
   "metadata": {},
   "outputs": [
    {
     "data": {
      "image/png": "[encoded data removed]",
      "text/plain": [
       "<Figure size 432x288 with 1 Axes>"
      ]
     },
     "metadata": {
      "needs_background": "light"
     },
     "output_type": "display_data"
    }
   ],
   "source": [
    "#check class imbalance\n",
    "sns.countplot('target', data=df)\n",
    "plt.show()"
   ]
  },
  {
   "cell_type": "code",
   "execution_count": 28,
   "metadata": {},
   "outputs": [],
   "source": [
    "#manually random-balance classes, select Matrix X and Vector Y\n",
    "access_df = df.drop(['product_clothes', 'product_company', 'product_sneakers', 'product_sports_nutrition'], axis=1)"
   ]
  },
  {
   "cell_type": "code",
   "execution_count": 29,
   "metadata": {},
   "outputs": [
    {
     "name": "stderr",
     "output_type": "stream",
     "text": [
      "/Users/brittanyfowle/opt/anaconda3/lib/python3.7/site-packages/ipykernel_launcher.py:18: FutureWarning: \n",
      ".ix is deprecated. Please use\n",
      ".loc for label based indexing or\n",
      ".iloc for positional indexing\n",
      "\n",
      "See the documentation here:\n",
      "http://pandas.pydata.org/pandas-docs/stable/user_guide/indexing.html#ix-indexer-is-deprecated\n",
      "/Users/brittanyfowle/opt/anaconda3/lib/python3.7/site-packages/pandas/core/indexing.py:822: FutureWarning: \n",
      ".ix is deprecated. Please use\n",
      ".loc for label based indexing or\n",
      ".iloc for positional indexing\n",
      "\n",
      "See the documentation here:\n",
      "http://pandas.pydata.org/pandas-docs/stable/user_guide/indexing.html#ix-indexer-is-deprecated\n",
      "  retval = getattr(retval, self.name)._getitem_axis(key, axis=i)\n",
      "/Users/brittanyfowle/opt/anaconda3/lib/python3.7/site-packages/ipykernel_launcher.py:19: FutureWarning: \n",
      ".ix is deprecated. Please use\n",
      ".loc for label based indexing or\n",
      ".iloc for positional indexing\n",
      "\n",
      "See the documentation here:\n",
      "http://pandas.pydata.org/pandas-docs/stable/user_guide/indexing.html#ix-indexer-is-deprecated\n"
     ]
    },
    {
     "name": "stdout",
     "output_type": "stream",
     "text": [
      "Perc. of banner click or show result:  0.5\n",
      "Perc. of order result:  0.5\n",
      "Total number of transactions in resampled data:  497444\n"
     ]
    },
    {
     "data": {
      "image/png": "[encoded data removed]",
      "text/plain": [
       "<Figure size 432x288 with 1 Axes>"
      ]
     },
     "metadata": {
      "needs_background": "light"
     },
     "output_type": "display_data"
    }
   ],
   "source": [
    "# Number of data points in the minority class\n",
    "number_records_fraud = len(df[df.target == 1])\n",
    "fraud_indices = np.array(df[df.target == 1].index)\n",
    "\n",
    "# Picking the indices of the normal classes\n",
    "normal_indices = df[df.target == 0].index\n",
    "\n",
    "# Out of the indices we picked, randomly select \"x\" number (number_records_fraud)\n",
    "random_normal_indices = np.random.choice(normal_indices, number_records_fraud, replace = False)\n",
    "random_normal_indices = np.array(random_normal_indices)\n",
    "\n",
    "# Appending the 2 indices\n",
    "under_sample_indices = np.concatenate([fraud_indices,random_normal_indices])\n",
    "\n",
    "# Under sample dataset\n",
    "under_sample_data = df.iloc[under_sample_indices,:]\n",
    "\n",
    "X = under_sample_data.ix[:, under_sample_data.columns != 'target']\n",
    "y = under_sample_data.ix[:, under_sample_data.columns == 'target']\n",
    "\n",
    "# Showing ratio\n",
    "print(\"Perc. of banner click or show result: \", len(under_sample_data[under_sample_data.target == 0])/len(under_sample_data))\n",
    "print(\"Perc. of order result: \", len(under_sample_data[under_sample_data.target == 1])/len(under_sample_data))\n",
    "print(\"Total number of transactions in resampled data: \", len(under_sample_data))\n",
    "sns.countplot('target', data=y)\n",
    "plt.show()"
   ]
  },
  {
   "cell_type": "code",
   "execution_count": 30,
   "metadata": {},
   "outputs": [
    {
     "data": {
      "text/plain": [
       "((497444, 16), (497444, 1))"
      ]
     },
     "execution_count": 30,
     "metadata": {},
     "output_type": "execute_result"
    }
   ],
   "source": [
    "X.shape, y.shape"
   ]
  },
  {
   "cell_type": "code",
   "execution_count": 31,
   "metadata": {},
   "outputs": [
    {
     "data": {
      "text/html": [
       "<div>\n",
       "<style scoped>\n",
       "    .dataframe tbody tr th:only-of-type {\n",
       "        vertical-align: middle;\n",
       "    }\n",
       "\n",
       "    .dataframe tbody tr th {\n",
       "        vertical-align: top;\n",
       "    }\n",
       "\n",
       "    .dataframe thead th {\n",
       "        text-align: right;\n",
       "    }\n",
       "</style>\n",
       "<table border=\"1\" class=\"dataframe\">\n",
       "  <thead>\n",
       "    <tr style=\"text-align: right;\">\n",
       "      <th></th>\n",
       "      <th>num_conversion</th>\n",
       "      <th>IsBanner_click</th>\n",
       "      <th>IsFirst_conversion</th>\n",
       "      <th>time_IsMorning</th>\n",
       "      <th>time_IsDaylight</th>\n",
       "      <th>time_IsEvening</th>\n",
       "      <th>time_Hour</th>\n",
       "      <th>time_Day</th>\n",
       "      <th>time_Week_Day</th>\n",
       "      <th>time_Year_Month</th>\n",
       "      <th>SV_IsMobile</th>\n",
       "      <th>product_accessories</th>\n",
       "      <th>product_clothes</th>\n",
       "      <th>product_company</th>\n",
       "      <th>product_sneakers</th>\n",
       "      <th>product_sports_nutrition</th>\n",
       "    </tr>\n",
       "  </thead>\n",
       "  <tbody>\n",
       "    <tr>\n",
       "      <td>60</td>\n",
       "      <td>5.0</td>\n",
       "      <td>1</td>\n",
       "      <td>0</td>\n",
       "      <td>0</td>\n",
       "      <td>1</td>\n",
       "      <td>0</td>\n",
       "      <td>10</td>\n",
       "      <td>3</td>\n",
       "      <td>7</td>\n",
       "      <td>201903</td>\n",
       "      <td>0</td>\n",
       "      <td>0</td>\n",
       "      <td>0</td>\n",
       "      <td>0</td>\n",
       "      <td>0</td>\n",
       "      <td>1</td>\n",
       "    </tr>\n",
       "    <tr>\n",
       "      <td>106</td>\n",
       "      <td>9.0</td>\n",
       "      <td>1</td>\n",
       "      <td>0</td>\n",
       "      <td>0</td>\n",
       "      <td>0</td>\n",
       "      <td>1</td>\n",
       "      <td>21</td>\n",
       "      <td>8</td>\n",
       "      <td>5</td>\n",
       "      <td>201902</td>\n",
       "      <td>0</td>\n",
       "      <td>0</td>\n",
       "      <td>0</td>\n",
       "      <td>0</td>\n",
       "      <td>1</td>\n",
       "      <td>0</td>\n",
       "    </tr>\n",
       "    <tr>\n",
       "      <td>107</td>\n",
       "      <td>10.0</td>\n",
       "      <td>1</td>\n",
       "      <td>0</td>\n",
       "      <td>0</td>\n",
       "      <td>0</td>\n",
       "      <td>1</td>\n",
       "      <td>19</td>\n",
       "      <td>10</td>\n",
       "      <td>7</td>\n",
       "      <td>201902</td>\n",
       "      <td>0</td>\n",
       "      <td>0</td>\n",
       "      <td>1</td>\n",
       "      <td>0</td>\n",
       "      <td>0</td>\n",
       "      <td>0</td>\n",
       "    </tr>\n",
       "    <tr>\n",
       "      <td>165</td>\n",
       "      <td>3.0</td>\n",
       "      <td>0</td>\n",
       "      <td>0</td>\n",
       "      <td>0</td>\n",
       "      <td>1</td>\n",
       "      <td>0</td>\n",
       "      <td>10</td>\n",
       "      <td>6</td>\n",
       "      <td>3</td>\n",
       "      <td>201902</td>\n",
       "      <td>1</td>\n",
       "      <td>0</td>\n",
       "      <td>0</td>\n",
       "      <td>0</td>\n",
       "      <td>0</td>\n",
       "      <td>1</td>\n",
       "    </tr>\n",
       "    <tr>\n",
       "      <td>179</td>\n",
       "      <td>1.0</td>\n",
       "      <td>1</td>\n",
       "      <td>1</td>\n",
       "      <td>0</td>\n",
       "      <td>0</td>\n",
       "      <td>1</td>\n",
       "      <td>19</td>\n",
       "      <td>10</td>\n",
       "      <td>7</td>\n",
       "      <td>201902</td>\n",
       "      <td>1</td>\n",
       "      <td>1</td>\n",
       "      <td>0</td>\n",
       "      <td>0</td>\n",
       "      <td>0</td>\n",
       "      <td>0</td>\n",
       "    </tr>\n",
       "  </tbody>\n",
       "</table>\n",
       "</div>"
      ],
      "text/plain": [
       "     num_conversion  IsBanner_click  IsFirst_conversion  time_IsMorning  time_IsDaylight  time_IsEvening  time_Hour  time_Day  time_Week_Day  time_Year_Month  SV_IsMobile  product_accessories  product_clothes  product_company  product_sneakers  product_sports_nutrition\n",
       "60              5.0               1                   0               0                1               0         10         3              7           201903            0                    0                0                0                 0                         1\n",
       "106             9.0               1                   0               0                0               1         21         8              5           201902            0                    0                0                0                 1                         0\n",
       "107            10.0               1                   0               0                0               1         19        10              7           201902            0                    0                1                0                 0                         0\n",
       "165             3.0               0                   0               0                1               0         10         6              3           201902            1                    0                0                0                 0                         1\n",
       "179             1.0               1                   1               0                0               1         19        10              7           201902            1                    1                0                0                 0                         0"
      ]
     },
     "execution_count": 31,
     "metadata": {},
     "output_type": "execute_result"
    }
   ],
   "source": [
    "X.head()"
   ]
  },
  {
   "cell_type": "code",
   "execution_count": 32,
   "metadata": {},
   "outputs": [
    {
     "data": {
      "text/html": [
       "<div>\n",
       "<style scoped>\n",
       "    .dataframe tbody tr th:only-of-type {\n",
       "        vertical-align: middle;\n",
       "    }\n",
       "\n",
       "    .dataframe tbody tr th {\n",
       "        vertical-align: top;\n",
       "    }\n",
       "\n",
       "    .dataframe thead th {\n",
       "        text-align: right;\n",
       "    }\n",
       "</style>\n",
       "<table border=\"1\" class=\"dataframe\">\n",
       "  <thead>\n",
       "    <tr style=\"text-align: right;\">\n",
       "      <th></th>\n",
       "      <th>num_conversion</th>\n",
       "      <th>IsBanner_click</th>\n",
       "      <th>IsFirst_conversion</th>\n",
       "      <th>time_IsMorning</th>\n",
       "      <th>time_IsDaylight</th>\n",
       "      <th>time_IsEvening</th>\n",
       "      <th>time_Hour</th>\n",
       "      <th>time_Day</th>\n",
       "      <th>time_Week_Day</th>\n",
       "      <th>time_Year_Month</th>\n",
       "      <th>SV_IsMobile</th>\n",
       "      <th>product_accessories</th>\n",
       "      <th>product_clothes</th>\n",
       "      <th>product_company</th>\n",
       "      <th>product_sneakers</th>\n",
       "      <th>product_sports_nutrition</th>\n",
       "    </tr>\n",
       "  </thead>\n",
       "  <tbody>\n",
       "    <tr>\n",
       "      <td>count</td>\n",
       "      <td>497444.000000</td>\n",
       "      <td>497444.000000</td>\n",
       "      <td>497444.000000</td>\n",
       "      <td>497444.000000</td>\n",
       "      <td>497444.000000</td>\n",
       "      <td>497444.000000</td>\n",
       "      <td>497444.000000</td>\n",
       "      <td>497444.000000</td>\n",
       "      <td>497444.000000</td>\n",
       "      <td>497444.000000</td>\n",
       "      <td>497444.000000</td>\n",
       "      <td>497444.000000</td>\n",
       "      <td>497444.000000</td>\n",
       "      <td>497444.000000</td>\n",
       "      <td>497444.000000</td>\n",
       "      <td>497444.000000</td>\n",
       "    </tr>\n",
       "    <tr>\n",
       "      <td>mean</td>\n",
       "      <td>2.432786</td>\n",
       "      <td>0.408641</td>\n",
       "      <td>0.445982</td>\n",
       "      <td>0.196740</td>\n",
       "      <td>0.302456</td>\n",
       "      <td>0.333625</td>\n",
       "      <td>12.486833</td>\n",
       "      <td>15.726962</td>\n",
       "      <td>3.986998</td>\n",
       "      <td>201903.225577</td>\n",
       "      <td>0.594941</td>\n",
       "      <td>0.185271</td>\n",
       "      <td>0.328443</td>\n",
       "      <td>0.105487</td>\n",
       "      <td>0.235725</td>\n",
       "      <td>0.145074</td>\n",
       "    </tr>\n",
       "    <tr>\n",
       "      <td>std</td>\n",
       "      <td>2.060457</td>\n",
       "      <td>0.491583</td>\n",
       "      <td>0.497074</td>\n",
       "      <td>0.397534</td>\n",
       "      <td>0.459322</td>\n",
       "      <td>0.471508</td>\n",
       "      <td>6.030528</td>\n",
       "      <td>8.687715</td>\n",
       "      <td>1.990026</td>\n",
       "      <td>1.381367</td>\n",
       "      <td>0.490904</td>\n",
       "      <td>0.388518</td>\n",
       "      <td>0.469647</td>\n",
       "      <td>0.307181</td>\n",
       "      <td>0.424452</td>\n",
       "      <td>0.352175</td>\n",
       "    </tr>\n",
       "    <tr>\n",
       "      <td>min</td>\n",
       "      <td>1.000000</td>\n",
       "      <td>0.000000</td>\n",
       "      <td>0.000000</td>\n",
       "      <td>0.000000</td>\n",
       "      <td>0.000000</td>\n",
       "      <td>0.000000</td>\n",
       "      <td>0.000000</td>\n",
       "      <td>1.000000</td>\n",
       "      <td>1.000000</td>\n",
       "      <td>201901.000000</td>\n",
       "      <td>0.000000</td>\n",
       "      <td>0.000000</td>\n",
       "      <td>0.000000</td>\n",
       "      <td>0.000000</td>\n",
       "      <td>0.000000</td>\n",
       "      <td>0.000000</td>\n",
       "    </tr>\n",
       "    <tr>\n",
       "      <td>25%</td>\n",
       "      <td>1.000000</td>\n",
       "      <td>0.000000</td>\n",
       "      <td>0.000000</td>\n",
       "      <td>0.000000</td>\n",
       "      <td>0.000000</td>\n",
       "      <td>0.000000</td>\n",
       "      <td>8.000000</td>\n",
       "      <td>8.000000</td>\n",
       "      <td>2.000000</td>\n",
       "      <td>201902.000000</td>\n",
       "      <td>0.000000</td>\n",
       "      <td>0.000000</td>\n",
       "      <td>0.000000</td>\n",
       "      <td>0.000000</td>\n",
       "      <td>0.000000</td>\n",
       "      <td>0.000000</td>\n",
       "    </tr>\n",
       "    <tr>\n",
       "      <td>50%</td>\n",
       "      <td>2.000000</td>\n",
       "      <td>0.000000</td>\n",
       "      <td>0.000000</td>\n",
       "      <td>0.000000</td>\n",
       "      <td>0.000000</td>\n",
       "      <td>0.000000</td>\n",
       "      <td>13.000000</td>\n",
       "      <td>16.000000</td>\n",
       "      <td>4.000000</td>\n",
       "      <td>201903.000000</td>\n",
       "      <td>1.000000</td>\n",
       "      <td>0.000000</td>\n",
       "      <td>0.000000</td>\n",
       "      <td>0.000000</td>\n",
       "      <td>0.000000</td>\n",
       "      <td>0.000000</td>\n",
       "    </tr>\n",
       "    <tr>\n",
       "      <td>75%</td>\n",
       "      <td>3.000000</td>\n",
       "      <td>1.000000</td>\n",
       "      <td>1.000000</td>\n",
       "      <td>0.000000</td>\n",
       "      <td>1.000000</td>\n",
       "      <td>1.000000</td>\n",
       "      <td>17.000000</td>\n",
       "      <td>23.000000</td>\n",
       "      <td>6.000000</td>\n",
       "      <td>201904.000000</td>\n",
       "      <td>1.000000</td>\n",
       "      <td>0.000000</td>\n",
       "      <td>1.000000</td>\n",
       "      <td>0.000000</td>\n",
       "      <td>0.000000</td>\n",
       "      <td>0.000000</td>\n",
       "    </tr>\n",
       "    <tr>\n",
       "      <td>max</td>\n",
       "      <td>22.000000</td>\n",
       "      <td>1.000000</td>\n",
       "      <td>1.000000</td>\n",
       "      <td>1.000000</td>\n",
       "      <td>1.000000</td>\n",
       "      <td>1.000000</td>\n",
       "      <td>23.000000</td>\n",
       "      <td>31.000000</td>\n",
       "      <td>7.000000</td>\n",
       "      <td>201905.000000</td>\n",
       "      <td>1.000000</td>\n",
       "      <td>1.000000</td>\n",
       "      <td>1.000000</td>\n",
       "      <td>1.000000</td>\n",
       "      <td>1.000000</td>\n",
       "      <td>1.000000</td>\n",
       "    </tr>\n",
       "  </tbody>\n",
       "</table>\n",
       "</div>"
      ],
      "text/plain": [
       "       num_conversion  IsBanner_click  IsFirst_conversion  time_IsMorning  time_IsDaylight  time_IsEvening      time_Hour       time_Day  time_Week_Day  time_Year_Month    SV_IsMobile  product_accessories  product_clothes  product_company  product_sneakers  product_sports_nutrition\n",
       "count   497444.000000   497444.000000       497444.000000   497444.000000    497444.000000   497444.000000  497444.000000  497444.000000  497444.000000    497444.000000  497444.000000        497444.000000    497444.000000    497444.000000     497444.000000             497444.000000\n",
       "mean         2.432786        0.408641            0.445982        0.196740         0.302456        0.333625      12.486833      15.726962       3.986998    201903.225577       0.594941             0.185271         0.328443         0.105487          0.235725                  0.145074\n",
       "std          2.060457        0.491583            0.497074        0.397534         0.459322        0.471508       6.030528       8.687715       1.990026         1.381367       0.490904             0.388518         0.469647         0.307181          0.424452                  0.352175\n",
       "min          1.000000        0.000000            0.000000        0.000000         0.000000        0.000000       0.000000       1.000000       1.000000    201901.000000       0.000000             0.000000         0.000000         0.000000          0.000000                  0.000000\n",
       "25%          1.000000        0.000000            0.000000        0.000000         0.000000        0.000000       8.000000       8.000000       2.000000    201902.000000       0.000000             0.000000         0.000000         0.000000          0.000000                  0.000000\n",
       "50%          2.000000        0.000000            0.000000        0.000000         0.000000        0.000000      13.000000      16.000000       4.000000    201903.000000       1.000000             0.000000         0.000000         0.000000          0.000000                  0.000000\n",
       "75%          3.000000        1.000000            1.000000        0.000000         1.000000        1.000000      17.000000      23.000000       6.000000    201904.000000       1.000000             0.000000         1.000000         0.000000          0.000000                  0.000000\n",
       "max         22.000000        1.000000            1.000000        1.000000         1.000000        1.000000      23.000000      31.000000       7.000000    201905.000000       1.000000             1.000000         1.000000         1.000000          1.000000                  1.000000"
      ]
     },
     "execution_count": 32,
     "metadata": {},
     "output_type": "execute_result"
    }
   ],
   "source": [
    "#data is now balanced and ready for normalization\n",
    "X.describe()"
   ]
  },
  {
   "cell_type": "code",
   "execution_count": 33,
   "metadata": {},
   "outputs": [],
   "source": [
    "#normalize matrix X\n",
    "stand_X = pd.DataFrame(preprocessing.scale(X), columns=X.columns)"
   ]
  },
  {
   "cell_type": "markdown",
   "metadata": {},
   "source": [
    "create a class for quick analysis of a feature set\n",
    " - withdrawal of the rating of signs on simple algorithms \"out of the box\" + average rating\n",
    " - test of the current feature set on simple models without selection of hyperparameters and regularization\n",
    "<br>\n",
    "<br>\n",
    "test simple models (including KNN) to show precedents"
   ]
  },
  {
   "cell_type": "code",
   "execution_count": 34,
   "metadata": {},
   "outputs": [],
   "source": [
    "class Feat_Importance:\n",
    "    df = None\n",
    "    columns = None\n",
    "    random_state = None\n",
    "    ranks = {}\n",
    "        \n",
    "    def __init__(self, X, y, columns, random_state=56, show_dict='N', show_plot='N'):\n",
    "        self.X = X\n",
    "        self.y = y\n",
    "        self.names = columns\n",
    "        self.random_state = random_state\n",
    "        self.show_dict = show_dict\n",
    "        self.show_plot = show_plot\n",
    "        \n",
    "    def __rank_to_dict(self, ranks, names, order=1):\n",
    "        minmax = MinMaxScaler()\n",
    "        ranks = minmax.fit_transform(order*np.array([ranks]).T).T[0]\n",
    "        ranks = map(lambda x: round(x, 2), ranks)\n",
    "        return dict(zip(names, ranks))\n",
    "    \n",
    "    def feat_stats(self):\n",
    "        self.ranks = {}\n",
    "        self.get_KBest()\n",
    "        self.get_LogReg()\n",
    "        self.get_XGBC()\n",
    "        \n",
    "    def get_KBest(self):\n",
    "        selector = SelectKBest(f_classif)\n",
    "        selector.fit(self.X, self.y)\n",
    "        scores = selector.scores_\n",
    "        scores = pd.Series(scores).fillna(0)\n",
    "        self.ranks[\"KBest\"] = self.__rank_to_dict(scores, self.names)\n",
    "        if self.show_dict == 'Y': \n",
    "            print('===== KBest dict =====\\n', self.ranks[\"KBest\"], '\\n\\n\\n')\n",
    "        if self.show_plot == 'Y': \n",
    "            print('===== KBest plot =====\\n', self.X.shape)\n",
    "            plt.bar(range(len(self.names)), -np.log10(selector.pvalues_))\n",
    "            plt.xticks(range(len(self.names)), self.names, rotation='vertical');\n",
    "            \n",
    "    def get_LogReg(self):\n",
    "        model_LogRegRidge = LogisticRegression(penalty='l2', C=0.15, \n",
    "                                               random_state=self.random_state, solver='liblinear', \n",
    "                                               n_jobs=-1)\n",
    "        model_LogRegRidge.fit(self.X, self.y)\n",
    "        self.ranks[\"LogRegRidge\"] = self.__rank_to_dict(list(map(float, \n",
    "                                    model_LogRegRidge.coef_.reshape(len(self.names), -1))),\n",
    "                                    self.names, order=1)\n",
    "        \n",
    "        if self.show_dict == 'Y': \n",
    "            print('===== LogRegRidge dict =====\\n', self.ranks[\"LogRegRidge\"], '\\n\\n\\n')\n",
    "        if self.show_plot == 'Y':\n",
    "            print('===== LogRegRidge plot =====\\n', self.X.shape)\n",
    "            listsRidge = sorted(self.ranks[\"LogRegRidge\"].items(), key=operator.itemgetter(1))\n",
    "            dfRidge = pd.DataFrame(np.array(listsRidge).reshape(len(listsRidge), 2),\n",
    "                       columns=['Features', 'Ranks']).sort_values('Ranks')\n",
    "            dfRidge['Ranks'] = dfRidge['Ranks'].astype(float)\n",
    "            dfRidge.plot.bar(x='Features', y='Ranks', color='blue')\n",
    "            plt.xticks(rotation=90)\n",
    "    \n",
    "    def get_XGBC(self):\n",
    "        model_XGBC = XGBClassifier(objective='binary:logistic',\n",
    "                           max_depth=7, min_child_weight=5,\n",
    "                           gamma=0, random_state=random_state, n_jobs=-1,\n",
    "                           learning_rate=0.1, n_estimators=200)\n",
    "        model_XGBC.fit(self.X, self.y)\n",
    "        self.ranks[\"XGBC\"] = self.__rank_to_dict(model_XGBC.feature_importances_, self.names)\n",
    "        if self.show_dict == 'Y': \n",
    "            print('===== XGBClassifier dict =====\\n', self.ranks[\"XGBC\"], '\\n\\n\\n')\n",
    "        if self.show_plot == 'Y':\n",
    "            print('===== XGBClassifier plot =====\\n', self.X.shape)\n",
    "            plot_importance(model_XGBC)\n",
    "            plt.show()\n",
    "    \n",
    "    def stats_df(self):\n",
    "        r = {}\n",
    "        for name in self.names:\n",
    "            r[name] = round(np.mean([self.ranks[method][name] for method in self.ranks.keys()]), 2)\n",
    "        methods = sorted(self.ranks.keys())\n",
    "        self.ranks['Mean'] = r\n",
    "        methods.append('Mean')\n",
    "\n",
    "        row_index, AllFeatures_columns = 0, ['Feature', 'Scores']\n",
    "        AllFeats = pd.DataFrame(columns=AllFeatures_columns)\n",
    "        for name in self.names:\n",
    "            AllFeats.loc[row_index, 'Feature'] = name\n",
    "            AllFeats.loc[row_index, 'Scores'] = [self.ranks[method][name] for method in methods]\n",
    "            row_index += 1\n",
    "        AllFeatures_only = pd.DataFrame(AllFeats.Scores.tolist(), )\n",
    "        AllFeatures_only.rename(columns={0: 'KBest', 1: 'LogRegRidge', 2: 'XGB Classifier', 3: 'Mean'}, inplace=True)\n",
    "        AllFeatures_only = AllFeatures_only[['KBest', 'LogRegRidge', 'XGB Classifier', 'Mean']]\n",
    "        AllFeatures_compare = AllFeats.join(AllFeatures_only).drop(['Scores'], axis=1)\n",
    "        return AllFeatures_compare\n",
    "    \n",
    "    def simple_test(self):\n",
    "        x_train, x_valid, y_train, y_valid = train_test_split(self.X, self.y, test_size=0.3, random_state=random_state+37)\n",
    "        mods = ('BernoulliNB', 'KNeighborsClassifier', 'RandomForestClassifier')\n",
    "        for nu, model in enumerate([BernoulliNB(), KNeighborsClassifier(n_jobs=-1), \n",
    "                      RandomForestClassifier(n_jobs=-1)]):\n",
    "            model.fit(x_train, y_train)\n",
    "            predicted = model.predict(x_valid)\n",
    "            print(mods[nu])\n",
    "            print('------ accuracy ------\\n', metrics.accuracy_score(y_valid, predicted))\n",
    "            #print('------ confusion_matrix ------\\n', metrics.confusion_matrix(y_valid, predicted))\n",
    "            print('------ roc_auc_score ------\\n', metrics.roc_auc_score(y_valid, predicted))\n",
    "            print('\\n')"
   ]
  },
  {
   "cell_type": "code",
   "execution_count": 35,
   "metadata": {
    "scrolled": true
   },
   "outputs": [
    {
     "name": "stderr",
     "output_type": "stream",
     "text": [
      "/Users/brittanyfowle/opt/anaconda3/lib/python3.7/site-packages/sklearn/utils/validation.py:724: DataConversionWarning: A column-vector y was passed when a 1d array was expected. Please change the shape of y to (n_samples, ), for example using ravel().\n",
      "  y = column_or_1d(y, warn=True)\n",
      "/Users/brittanyfowle/opt/anaconda3/lib/python3.7/site-packages/sklearn/utils/validation.py:724: DataConversionWarning: A column-vector y was passed when a 1d array was expected. Please change the shape of y to (n_samples, ), for example using ravel().\n",
      "  y = column_or_1d(y, warn=True)\n",
      "/Users/brittanyfowle/opt/anaconda3/lib/python3.7/site-packages/sklearn/linear_model/logistic.py:1544: UserWarning: 'n_jobs' > 1 does not have any effect when 'solver' is set to 'liblinear'. Got 'n_jobs' = 4.\n",
      "  \" = {}.\".format(effective_n_jobs(self.n_jobs)))\n",
      "/Users/brittanyfowle/opt/anaconda3/lib/python3.7/site-packages/sklearn/preprocessing/label.py:219: DataConversionWarning: A column-vector y was passed when a 1d array was expected. Please change the shape of y to (n_samples, ), for example using ravel().\n",
      "  y = column_or_1d(y, warn=True)\n",
      "/Users/brittanyfowle/opt/anaconda3/lib/python3.7/site-packages/sklearn/preprocessing/label.py:252: DataConversionWarning: A column-vector y was passed when a 1d array was expected. Please change the shape of y to (n_samples, ), for example using ravel().\n",
      "  y = column_or_1d(y, warn=True)\n"
     ]
    },
    {
     "data": {
      "text/html": [
       "<div>\n",
       "<style scoped>\n",
       "    .dataframe tbody tr th:only-of-type {\n",
       "        vertical-align: middle;\n",
       "    }\n",
       "\n",
       "    .dataframe tbody tr th {\n",
       "        vertical-align: top;\n",
       "    }\n",
       "\n",
       "    .dataframe thead th {\n",
       "        text-align: right;\n",
       "    }\n",
       "</style>\n",
       "<table border=\"1\" class=\"dataframe\">\n",
       "  <thead>\n",
       "    <tr style=\"text-align: right;\">\n",
       "      <th></th>\n",
       "      <th>Feature</th>\n",
       "      <th>KBest</th>\n",
       "      <th>LogRegRidge</th>\n",
       "      <th>XGB Classifier</th>\n",
       "      <th>Mean</th>\n",
       "    </tr>\n",
       "  </thead>\n",
       "  <tbody>\n",
       "    <tr>\n",
       "      <td>13</td>\n",
       "      <td>product_company</td>\n",
       "      <td>1.00</td>\n",
       "      <td>0.00</td>\n",
       "      <td>1.00</td>\n",
       "      <td>0.67</td>\n",
       "    </tr>\n",
       "    <tr>\n",
       "      <td>12</td>\n",
       "      <td>product_clothes</td>\n",
       "      <td>0.57</td>\n",
       "      <td>1.00</td>\n",
       "      <td>0.03</td>\n",
       "      <td>0.53</td>\n",
       "    </tr>\n",
       "    <tr>\n",
       "      <td>10</td>\n",
       "      <td>SV_IsMobile</td>\n",
       "      <td>0.57</td>\n",
       "      <td>0.54</td>\n",
       "      <td>0.06</td>\n",
       "      <td>0.39</td>\n",
       "    </tr>\n",
       "    <tr>\n",
       "      <td>1</td>\n",
       "      <td>IsBanner_click</td>\n",
       "      <td>0.16</td>\n",
       "      <td>0.90</td>\n",
       "      <td>0.04</td>\n",
       "      <td>0.37</td>\n",
       "    </tr>\n",
       "    <tr>\n",
       "      <td>14</td>\n",
       "      <td>product_sneakers</td>\n",
       "      <td>0.06</td>\n",
       "      <td>0.93</td>\n",
       "      <td>0.01</td>\n",
       "      <td>0.33</td>\n",
       "    </tr>\n",
       "    <tr>\n",
       "      <td>15</td>\n",
       "      <td>product_sports_nutrition</td>\n",
       "      <td>0.15</td>\n",
       "      <td>0.79</td>\n",
       "      <td>0.03</td>\n",
       "      <td>0.32</td>\n",
       "    </tr>\n",
       "    <tr>\n",
       "      <td>0</td>\n",
       "      <td>num_conversion</td>\n",
       "      <td>0.12</td>\n",
       "      <td>0.80</td>\n",
       "      <td>0.01</td>\n",
       "      <td>0.31</td>\n",
       "    </tr>\n",
       "    <tr>\n",
       "      <td>11</td>\n",
       "      <td>product_accessories</td>\n",
       "      <td>0.00</td>\n",
       "      <td>0.87</td>\n",
       "      <td>0.00</td>\n",
       "      <td>0.29</td>\n",
       "    </tr>\n",
       "    <tr>\n",
       "      <td>2</td>\n",
       "      <td>IsFirst_conversion</td>\n",
       "      <td>0.11</td>\n",
       "      <td>0.73</td>\n",
       "      <td>0.00</td>\n",
       "      <td>0.28</td>\n",
       "    </tr>\n",
       "    <tr>\n",
       "      <td>6</td>\n",
       "      <td>time_Hour</td>\n",
       "      <td>0.00</td>\n",
       "      <td>0.82</td>\n",
       "      <td>0.01</td>\n",
       "      <td>0.28</td>\n",
       "    </tr>\n",
       "    <tr>\n",
       "      <td>3</td>\n",
       "      <td>time_IsMorning</td>\n",
       "      <td>0.19</td>\n",
       "      <td>0.59</td>\n",
       "      <td>0.02</td>\n",
       "      <td>0.27</td>\n",
       "    </tr>\n",
       "    <tr>\n",
       "      <td>7</td>\n",
       "      <td>time_Day</td>\n",
       "      <td>0.00</td>\n",
       "      <td>0.76</td>\n",
       "      <td>0.00</td>\n",
       "      <td>0.25</td>\n",
       "    </tr>\n",
       "    <tr>\n",
       "      <td>8</td>\n",
       "      <td>time_Week_Day</td>\n",
       "      <td>0.00</td>\n",
       "      <td>0.76</td>\n",
       "      <td>0.00</td>\n",
       "      <td>0.25</td>\n",
       "    </tr>\n",
       "    <tr>\n",
       "      <td>9</td>\n",
       "      <td>time_Year_Month</td>\n",
       "      <td>0.00</td>\n",
       "      <td>0.74</td>\n",
       "      <td>0.00</td>\n",
       "      <td>0.25</td>\n",
       "    </tr>\n",
       "    <tr>\n",
       "      <td>4</td>\n",
       "      <td>time_IsDaylight</td>\n",
       "      <td>0.00</td>\n",
       "      <td>0.62</td>\n",
       "      <td>0.00</td>\n",
       "      <td>0.21</td>\n",
       "    </tr>\n",
       "    <tr>\n",
       "      <td>5</td>\n",
       "      <td>time_IsEvening</td>\n",
       "      <td>0.01</td>\n",
       "      <td>0.61</td>\n",
       "      <td>0.00</td>\n",
       "      <td>0.21</td>\n",
       "    </tr>\n",
       "  </tbody>\n",
       "</table>\n",
       "</div>"
      ],
      "text/plain": [
       "                     Feature  KBest  LogRegRidge  XGB Classifier  Mean\n",
       "13           product_company   1.00         0.00            1.00  0.67\n",
       "12           product_clothes   0.57         1.00            0.03  0.53\n",
       "10               SV_IsMobile   0.57         0.54            0.06  0.39\n",
       "1             IsBanner_click   0.16         0.90            0.04  0.37\n",
       "14          product_sneakers   0.06         0.93            0.01  0.33\n",
       "15  product_sports_nutrition   0.15         0.79            0.03  0.32\n",
       "0             num_conversion   0.12         0.80            0.01  0.31\n",
       "11       product_accessories   0.00         0.87            0.00  0.29\n",
       "2         IsFirst_conversion   0.11         0.73            0.00  0.28\n",
       "6                  time_Hour   0.00         0.82            0.01  0.28\n",
       "3             time_IsMorning   0.19         0.59            0.02  0.27\n",
       "7                   time_Day   0.00         0.76            0.00  0.25\n",
       "8              time_Week_Day   0.00         0.76            0.00  0.25\n",
       "9            time_Year_Month   0.00         0.74            0.00  0.25\n",
       "4            time_IsDaylight   0.00         0.62            0.00  0.21\n",
       "5             time_IsEvening   0.01         0.61            0.00  0.21"
      ]
     },
     "metadata": {},
     "output_type": "display_data"
    }
   ],
   "source": [
    "fi = Feat_Importance(stand_X, y, stand_X.columns)\n",
    "fi.feat_stats()\n",
    "fi_df = fi.stats_df()\n",
    "display(fi_df.sort_values(by=['Mean'], ascending=[False]))"
   ]
  },
  {
   "cell_type": "code",
   "execution_count": 36,
   "metadata": {},
   "outputs": [
    {
     "name": "stderr",
     "output_type": "stream",
     "text": [
      "/Users/brittanyfowle/opt/anaconda3/lib/python3.7/site-packages/sklearn/utils/validation.py:724: DataConversionWarning: A column-vector y was passed when a 1d array was expected. Please change the shape of y to (n_samples, ), for example using ravel().\n",
      "  y = column_or_1d(y, warn=True)\n"
     ]
    },
    {
     "name": "stdout",
     "output_type": "stream",
     "text": [
      "BernoulliNB\n",
      "------ accuracy ------\n",
      " 0.7120160285189702\n",
      "------ roc_auc_score ------\n",
      " 0.711924538113304\n",
      "\n",
      "\n"
     ]
    },
    {
     "name": "stderr",
     "output_type": "stream",
     "text": [
      "/Users/brittanyfowle/opt/anaconda3/lib/python3.7/site-packages/ipykernel_launcher.py:99: DataConversionWarning: A column-vector y was passed when a 1d array was expected. Please change the shape of y to (n_samples, ), for example using ravel().\n"
     ]
    },
    {
     "name": "stdout",
     "output_type": "stream",
     "text": [
      "KNeighborsClassifier\n",
      "------ accuracy ------\n",
      " 0.7272806465014675\n",
      "------ roc_auc_score ------\n",
      " 0.727248877228917\n",
      "\n",
      "\n"
     ]
    },
    {
     "name": "stderr",
     "output_type": "stream",
     "text": [
      "/Users/brittanyfowle/opt/anaconda3/lib/python3.7/site-packages/sklearn/ensemble/forest.py:245: FutureWarning: The default value of n_estimators will change from 10 in version 0.20 to 100 in 0.22.\n",
      "  \"10 in version 0.20 to 100 in 0.22.\", FutureWarning)\n",
      "/Users/brittanyfowle/opt/anaconda3/lib/python3.7/site-packages/ipykernel_launcher.py:99: DataConversionWarning: A column-vector y was passed when a 1d array was expected. Please change the shape of y to (n_samples,), for example using ravel().\n"
     ]
    },
    {
     "name": "stdout",
     "output_type": "stream",
     "text": [
      "RandomForestClassifier\n",
      "------ accuracy ------\n",
      " 0.7124716887572538\n",
      "------ roc_auc_score ------\n",
      " 0.7124613635087118\n",
      "\n",
      "\n"
     ]
    }
   ],
   "source": [
    "fi.simple_test()"
   ]
  },
  {
   "cell_type": "code",
   "execution_count": 37,
   "metadata": {},
   "outputs": [
    {
     "data": {
      "text/plain": [
       "<matplotlib.axes._subplots.AxesSubplot at 0x1a6c928ed0>"
      ]
     },
     "execution_count": 37,
     "metadata": {},
     "output_type": "execute_result"
    },
    {
     "data": {
      "image/png": "[encoded data removed]",
      "text/plain": [
       "<Figure size 720x576 with 2 Axes>"
      ]
     },
     "metadata": {
      "needs_background": "light"
     },
     "output_type": "display_data"
    }
   ],
   "source": [
    "plt.figure(figsize=(10, 8))\n",
    "sns.heatmap(stand_X.corr(), xticklabels=stand_X.columns, yticklabels=stand_X.columns)"
   ]
  },
  {
   "cell_type": "code",
   "execution_count": 42,
   "metadata": {
    "collapsed": true
   },
   "outputs": [
    {
     "ename": "KeyError",
     "evalue": "\"['IsFirst_conversion'] not found in axis\"",
     "output_type": "error",
     "traceback": [
      "\u001b[0;31m---------------------------------------------------------------------------\u001b[0m",
      "\u001b[0;31mKeyError\u001b[0m                                  Traceback (most recent call last)",
      "\u001b[0;32m<ipython-input-42-ca0f5b09050e>\u001b[0m in \u001b[0;36m<module>\u001b[0;34m\u001b[0m\n\u001b[1;32m      1\u001b[0m \u001b[0;31m#remove features with high correlation values\u001b[0m\u001b[0;34m\u001b[0m\u001b[0;34m\u001b[0m\u001b[0;34m\u001b[0m\u001b[0m\n\u001b[0;32m----> 2\u001b[0;31m \u001b[0mstand_X\u001b[0m \u001b[0;34m=\u001b[0m \u001b[0mstand_X\u001b[0m\u001b[0;34m.\u001b[0m\u001b[0mdrop\u001b[0m\u001b[0;34m(\u001b[0m\u001b[0;34m[\u001b[0m\u001b[0;34m'IsFirst_conversion'\u001b[0m\u001b[0;34m]\u001b[0m\u001b[0;34m,\u001b[0m \u001b[0maxis\u001b[0m\u001b[0;34m=\u001b[0m\u001b[0;36m1\u001b[0m\u001b[0;34m)\u001b[0m\u001b[0;34m\u001b[0m\u001b[0;34m\u001b[0m\u001b[0m\n\u001b[0m",
      "\u001b[0;32m~/opt/anaconda3/lib/python3.7/site-packages/pandas/core/frame.py\u001b[0m in \u001b[0;36mdrop\u001b[0;34m(self, labels, axis, index, columns, level, inplace, errors)\u001b[0m\n\u001b[1;32m   4100\u001b[0m             \u001b[0mlevel\u001b[0m\u001b[0;34m=\u001b[0m\u001b[0mlevel\u001b[0m\u001b[0;34m,\u001b[0m\u001b[0;34m\u001b[0m\u001b[0;34m\u001b[0m\u001b[0m\n\u001b[1;32m   4101\u001b[0m             \u001b[0minplace\u001b[0m\u001b[0;34m=\u001b[0m\u001b[0minplace\u001b[0m\u001b[0;34m,\u001b[0m\u001b[0;34m\u001b[0m\u001b[0;34m\u001b[0m\u001b[0m\n\u001b[0;32m-> 4102\u001b[0;31m             \u001b[0merrors\u001b[0m\u001b[0;34m=\u001b[0m\u001b[0merrors\u001b[0m\u001b[0;34m,\u001b[0m\u001b[0;34m\u001b[0m\u001b[0;34m\u001b[0m\u001b[0m\n\u001b[0m\u001b[1;32m   4103\u001b[0m         )\n\u001b[1;32m   4104\u001b[0m \u001b[0;34m\u001b[0m\u001b[0m\n",
      "\u001b[0;32m~/opt/anaconda3/lib/python3.7/site-packages/pandas/core/generic.py\u001b[0m in \u001b[0;36mdrop\u001b[0;34m(self, labels, axis, index, columns, level, inplace, errors)\u001b[0m\n\u001b[1;32m   3912\u001b[0m         \u001b[0;32mfor\u001b[0m \u001b[0maxis\u001b[0m\u001b[0;34m,\u001b[0m \u001b[0mlabels\u001b[0m \u001b[0;32min\u001b[0m \u001b[0maxes\u001b[0m\u001b[0;34m.\u001b[0m\u001b[0mitems\u001b[0m\u001b[0;34m(\u001b[0m\u001b[0;34m)\u001b[0m\u001b[0;34m:\u001b[0m\u001b[0;34m\u001b[0m\u001b[0;34m\u001b[0m\u001b[0m\n\u001b[1;32m   3913\u001b[0m             \u001b[0;32mif\u001b[0m \u001b[0mlabels\u001b[0m \u001b[0;32mis\u001b[0m \u001b[0;32mnot\u001b[0m \u001b[0;32mNone\u001b[0m\u001b[0;34m:\u001b[0m\u001b[0;34m\u001b[0m\u001b[0;34m\u001b[0m\u001b[0m\n\u001b[0;32m-> 3914\u001b[0;31m                 \u001b[0mobj\u001b[0m \u001b[0;34m=\u001b[0m \u001b[0mobj\u001b[0m\u001b[0;34m.\u001b[0m\u001b[0m_drop_axis\u001b[0m\u001b[0;34m(\u001b[0m\u001b[0mlabels\u001b[0m\u001b[0;34m,\u001b[0m \u001b[0maxis\u001b[0m\u001b[0;34m,\u001b[0m \u001b[0mlevel\u001b[0m\u001b[0;34m=\u001b[0m\u001b[0mlevel\u001b[0m\u001b[0;34m,\u001b[0m \u001b[0merrors\u001b[0m\u001b[0;34m=\u001b[0m\u001b[0merrors\u001b[0m\u001b[0;34m)\u001b[0m\u001b[0;34m\u001b[0m\u001b[0;34m\u001b[0m\u001b[0m\n\u001b[0m\u001b[1;32m   3915\u001b[0m \u001b[0;34m\u001b[0m\u001b[0m\n\u001b[1;32m   3916\u001b[0m         \u001b[0;32mif\u001b[0m \u001b[0minplace\u001b[0m\u001b[0;34m:\u001b[0m\u001b[0;34m\u001b[0m\u001b[0;34m\u001b[0m\u001b[0m\n",
      "\u001b[0;32m~/opt/anaconda3/lib/python3.7/site-packages/pandas/core/generic.py\u001b[0m in \u001b[0;36m_drop_axis\u001b[0;34m(self, labels, axis, level, errors)\u001b[0m\n\u001b[1;32m   3944\u001b[0m                 \u001b[0mnew_axis\u001b[0m \u001b[0;34m=\u001b[0m \u001b[0maxis\u001b[0m\u001b[0;34m.\u001b[0m\u001b[0mdrop\u001b[0m\u001b[0;34m(\u001b[0m\u001b[0mlabels\u001b[0m\u001b[0;34m,\u001b[0m \u001b[0mlevel\u001b[0m\u001b[0;34m=\u001b[0m\u001b[0mlevel\u001b[0m\u001b[0;34m,\u001b[0m \u001b[0merrors\u001b[0m\u001b[0;34m=\u001b[0m\u001b[0merrors\u001b[0m\u001b[0;34m)\u001b[0m\u001b[0;34m\u001b[0m\u001b[0;34m\u001b[0m\u001b[0m\n\u001b[1;32m   3945\u001b[0m             \u001b[0;32melse\u001b[0m\u001b[0;34m:\u001b[0m\u001b[0;34m\u001b[0m\u001b[0;34m\u001b[0m\u001b[0m\n\u001b[0;32m-> 3946\u001b[0;31m                 \u001b[0mnew_axis\u001b[0m \u001b[0;34m=\u001b[0m \u001b[0maxis\u001b[0m\u001b[0;34m.\u001b[0m\u001b[0mdrop\u001b[0m\u001b[0;34m(\u001b[0m\u001b[0mlabels\u001b[0m\u001b[0;34m,\u001b[0m \u001b[0merrors\u001b[0m\u001b[0;34m=\u001b[0m\u001b[0merrors\u001b[0m\u001b[0;34m)\u001b[0m\u001b[0;34m\u001b[0m\u001b[0;34m\u001b[0m\u001b[0m\n\u001b[0m\u001b[1;32m   3947\u001b[0m             \u001b[0mresult\u001b[0m \u001b[0;34m=\u001b[0m \u001b[0mself\u001b[0m\u001b[0;34m.\u001b[0m\u001b[0mreindex\u001b[0m\u001b[0;34m(\u001b[0m\u001b[0;34m**\u001b[0m\u001b[0;34m{\u001b[0m\u001b[0maxis_name\u001b[0m\u001b[0;34m:\u001b[0m \u001b[0mnew_axis\u001b[0m\u001b[0;34m}\u001b[0m\u001b[0;34m)\u001b[0m\u001b[0;34m\u001b[0m\u001b[0;34m\u001b[0m\u001b[0m\n\u001b[1;32m   3948\u001b[0m \u001b[0;34m\u001b[0m\u001b[0m\n",
      "\u001b[0;32m~/opt/anaconda3/lib/python3.7/site-packages/pandas/core/indexes/base.py\u001b[0m in \u001b[0;36mdrop\u001b[0;34m(self, labels, errors)\u001b[0m\n\u001b[1;32m   5338\u001b[0m         \u001b[0;32mif\u001b[0m \u001b[0mmask\u001b[0m\u001b[0;34m.\u001b[0m\u001b[0many\u001b[0m\u001b[0;34m(\u001b[0m\u001b[0;34m)\u001b[0m\u001b[0;34m:\u001b[0m\u001b[0;34m\u001b[0m\u001b[0;34m\u001b[0m\u001b[0m\n\u001b[1;32m   5339\u001b[0m             \u001b[0;32mif\u001b[0m \u001b[0merrors\u001b[0m \u001b[0;34m!=\u001b[0m \u001b[0;34m\"ignore\"\u001b[0m\u001b[0;34m:\u001b[0m\u001b[0;34m\u001b[0m\u001b[0;34m\u001b[0m\u001b[0m\n\u001b[0;32m-> 5340\u001b[0;31m                 \u001b[0;32mraise\u001b[0m \u001b[0mKeyError\u001b[0m\u001b[0;34m(\u001b[0m\u001b[0;34m\"{} not found in axis\"\u001b[0m\u001b[0;34m.\u001b[0m\u001b[0mformat\u001b[0m\u001b[0;34m(\u001b[0m\u001b[0mlabels\u001b[0m\u001b[0;34m[\u001b[0m\u001b[0mmask\u001b[0m\u001b[0;34m]\u001b[0m\u001b[0;34m)\u001b[0m\u001b[0;34m)\u001b[0m\u001b[0;34m\u001b[0m\u001b[0;34m\u001b[0m\u001b[0m\n\u001b[0m\u001b[1;32m   5341\u001b[0m             \u001b[0mindexer\u001b[0m \u001b[0;34m=\u001b[0m \u001b[0mindexer\u001b[0m\u001b[0;34m[\u001b[0m\u001b[0;34m~\u001b[0m\u001b[0mmask\u001b[0m\u001b[0;34m]\u001b[0m\u001b[0;34m\u001b[0m\u001b[0;34m\u001b[0m\u001b[0m\n\u001b[1;32m   5342\u001b[0m         \u001b[0;32mreturn\u001b[0m \u001b[0mself\u001b[0m\u001b[0;34m.\u001b[0m\u001b[0mdelete\u001b[0m\u001b[0;34m(\u001b[0m\u001b[0mindexer\u001b[0m\u001b[0;34m)\u001b[0m\u001b[0;34m\u001b[0m\u001b[0;34m\u001b[0m\u001b[0m\n",
      "\u001b[0;31mKeyError\u001b[0m: \"['IsFirst_conversion'] not found in axis\""
     ]
    }
   ],
   "source": [
    "#remove features with high correlation values\n",
    "stand_X = stand_X.drop(['IsFirst_conversion'], axis=1)"
   ]
  },
  {
   "cell_type": "code",
   "execution_count": 46,
   "metadata": {},
   "outputs": [],
   "source": [
    "# drop other highly correlated columns\n",
    "stand_X = stand_X.drop(['time_IsDaylight', 'time_IsEvening'], axis=1)"
   ]
  },
  {
   "cell_type": "code",
   "execution_count": 47,
   "metadata": {},
   "outputs": [
    {
     "data": {
      "text/plain": [
       "<matplotlib.axes._subplots.AxesSubplot at 0x1a957b5f50>"
      ]
     },
     "execution_count": 47,
     "metadata": {},
     "output_type": "execute_result"
    },
    {
     "data": {
      "image/png": "[encoded data removed]",
      "text/plain": [
       "<Figure size 576x576 with 2 Axes>"
      ]
     },
     "metadata": {
      "needs_background": "light"
     },
     "output_type": "display_data"
    }
   ],
   "source": [
    "plt.figure(figsize=(8, 8))\n",
    "sns.heatmap(stand_X.corr(), xticklabels=stand_X.columns, yticklabels=stand_X.columns)"
   ]
  },
  {
   "cell_type": "code",
   "execution_count": 48,
   "metadata": {},
   "outputs": [
    {
     "name": "stderr",
     "output_type": "stream",
     "text": [
      "/Users/brittanyfowle/opt/anaconda3/lib/python3.7/site-packages/sklearn/utils/validation.py:724: DataConversionWarning: A column-vector y was passed when a 1d array was expected. Please change the shape of y to (n_samples, ), for example using ravel().\n",
      "  y = column_or_1d(y, warn=True)\n",
      "/Users/brittanyfowle/opt/anaconda3/lib/python3.7/site-packages/sklearn/utils/validation.py:724: DataConversionWarning: A column-vector y was passed when a 1d array was expected. Please change the shape of y to (n_samples, ), for example using ravel().\n",
      "  y = column_or_1d(y, warn=True)\n",
      "/Users/brittanyfowle/opt/anaconda3/lib/python3.7/site-packages/sklearn/linear_model/logistic.py:1544: UserWarning: 'n_jobs' > 1 does not have any effect when 'solver' is set to 'liblinear'. Got 'n_jobs' = 4.\n",
      "  \" = {}.\".format(effective_n_jobs(self.n_jobs)))\n",
      "/Users/brittanyfowle/opt/anaconda3/lib/python3.7/site-packages/sklearn/preprocessing/label.py:219: DataConversionWarning: A column-vector y was passed when a 1d array was expected. Please change the shape of y to (n_samples, ), for example using ravel().\n",
      "  y = column_or_1d(y, warn=True)\n",
      "/Users/brittanyfowle/opt/anaconda3/lib/python3.7/site-packages/sklearn/preprocessing/label.py:252: DataConversionWarning: A column-vector y was passed when a 1d array was expected. Please change the shape of y to (n_samples, ), for example using ravel().\n",
      "  y = column_or_1d(y, warn=True)\n"
     ]
    },
    {
     "data": {
      "text/html": [
       "<div>\n",
       "<style scoped>\n",
       "    .dataframe tbody tr th:only-of-type {\n",
       "        vertical-align: middle;\n",
       "    }\n",
       "\n",
       "    .dataframe tbody tr th {\n",
       "        vertical-align: top;\n",
       "    }\n",
       "\n",
       "    .dataframe thead th {\n",
       "        text-align: right;\n",
       "    }\n",
       "</style>\n",
       "<table border=\"1\" class=\"dataframe\">\n",
       "  <thead>\n",
       "    <tr style=\"text-align: right;\">\n",
       "      <th></th>\n",
       "      <th>Feature</th>\n",
       "      <th>KBest</th>\n",
       "      <th>LogRegRidge</th>\n",
       "      <th>XGB Classifier</th>\n",
       "      <th>Mean</th>\n",
       "    </tr>\n",
       "  </thead>\n",
       "  <tbody>\n",
       "    <tr>\n",
       "      <td>10</td>\n",
       "      <td>product_company</td>\n",
       "      <td>1.00</td>\n",
       "      <td>0.00</td>\n",
       "      <td>1.00</td>\n",
       "      <td>0.67</td>\n",
       "    </tr>\n",
       "    <tr>\n",
       "      <td>9</td>\n",
       "      <td>product_clothes</td>\n",
       "      <td>0.57</td>\n",
       "      <td>1.00</td>\n",
       "      <td>0.03</td>\n",
       "      <td>0.53</td>\n",
       "    </tr>\n",
       "    <tr>\n",
       "      <td>7</td>\n",
       "      <td>SV_IsMobile</td>\n",
       "      <td>0.57</td>\n",
       "      <td>0.54</td>\n",
       "      <td>0.07</td>\n",
       "      <td>0.39</td>\n",
       "    </tr>\n",
       "    <tr>\n",
       "      <td>1</td>\n",
       "      <td>IsBanner_click</td>\n",
       "      <td>0.16</td>\n",
       "      <td>0.90</td>\n",
       "      <td>0.04</td>\n",
       "      <td>0.37</td>\n",
       "    </tr>\n",
       "    <tr>\n",
       "      <td>11</td>\n",
       "      <td>product_sneakers</td>\n",
       "      <td>0.06</td>\n",
       "      <td>0.93</td>\n",
       "      <td>0.01</td>\n",
       "      <td>0.33</td>\n",
       "    </tr>\n",
       "    <tr>\n",
       "      <td>0</td>\n",
       "      <td>num_conversion</td>\n",
       "      <td>0.12</td>\n",
       "      <td>0.82</td>\n",
       "      <td>0.01</td>\n",
       "      <td>0.32</td>\n",
       "    </tr>\n",
       "    <tr>\n",
       "      <td>12</td>\n",
       "      <td>product_sports_nutrition</td>\n",
       "      <td>0.15</td>\n",
       "      <td>0.79</td>\n",
       "      <td>0.03</td>\n",
       "      <td>0.32</td>\n",
       "    </tr>\n",
       "    <tr>\n",
       "      <td>2</td>\n",
       "      <td>time_IsMorning</td>\n",
       "      <td>0.19</td>\n",
       "      <td>0.65</td>\n",
       "      <td>0.02</td>\n",
       "      <td>0.29</td>\n",
       "    </tr>\n",
       "    <tr>\n",
       "      <td>8</td>\n",
       "      <td>product_accessories</td>\n",
       "      <td>0.00</td>\n",
       "      <td>0.87</td>\n",
       "      <td>0.00</td>\n",
       "      <td>0.29</td>\n",
       "    </tr>\n",
       "    <tr>\n",
       "      <td>3</td>\n",
       "      <td>time_Hour</td>\n",
       "      <td>0.00</td>\n",
       "      <td>0.73</td>\n",
       "      <td>0.01</td>\n",
       "      <td>0.25</td>\n",
       "    </tr>\n",
       "    <tr>\n",
       "      <td>4</td>\n",
       "      <td>time_Day</td>\n",
       "      <td>0.00</td>\n",
       "      <td>0.76</td>\n",
       "      <td>0.00</td>\n",
       "      <td>0.25</td>\n",
       "    </tr>\n",
       "    <tr>\n",
       "      <td>5</td>\n",
       "      <td>time_Week_Day</td>\n",
       "      <td>0.00</td>\n",
       "      <td>0.76</td>\n",
       "      <td>0.00</td>\n",
       "      <td>0.25</td>\n",
       "    </tr>\n",
       "    <tr>\n",
       "      <td>6</td>\n",
       "      <td>time_Year_Month</td>\n",
       "      <td>0.00</td>\n",
       "      <td>0.74</td>\n",
       "      <td>0.00</td>\n",
       "      <td>0.25</td>\n",
       "    </tr>\n",
       "  </tbody>\n",
       "</table>\n",
       "</div>"
      ],
      "text/plain": [
       "                     Feature  KBest  LogRegRidge  XGB Classifier  Mean\n",
       "10           product_company   1.00         0.00            1.00  0.67\n",
       "9            product_clothes   0.57         1.00            0.03  0.53\n",
       "7                SV_IsMobile   0.57         0.54            0.07  0.39\n",
       "1             IsBanner_click   0.16         0.90            0.04  0.37\n",
       "11          product_sneakers   0.06         0.93            0.01  0.33\n",
       "0             num_conversion   0.12         0.82            0.01  0.32\n",
       "12  product_sports_nutrition   0.15         0.79            0.03  0.32\n",
       "2             time_IsMorning   0.19         0.65            0.02  0.29\n",
       "8        product_accessories   0.00         0.87            0.00  0.29\n",
       "3                  time_Hour   0.00         0.73            0.01  0.25\n",
       "4                   time_Day   0.00         0.76            0.00  0.25\n",
       "5              time_Week_Day   0.00         0.76            0.00  0.25\n",
       "6            time_Year_Month   0.00         0.74            0.00  0.25"
      ]
     },
     "metadata": {},
     "output_type": "display_data"
    }
   ],
   "source": [
    "#test feature importance for feature subset\n",
    "fi = Feat_Importance(stand_X, y, stand_X.columns)\n",
    "fi.feat_stats()\n",
    "fi_df = fi.stats_df()\n",
    "display(fi_df.sort_values(by=['Mean'], ascending=[False]))"
   ]
  },
  {
   "cell_type": "code",
   "execution_count": 49,
   "metadata": {},
   "outputs": [
    {
     "name": "stderr",
     "output_type": "stream",
     "text": [
      "/Users/brittanyfowle/opt/anaconda3/lib/python3.7/site-packages/sklearn/utils/validation.py:724: DataConversionWarning: A column-vector y was passed when a 1d array was expected. Please change the shape of y to (n_samples, ), for example using ravel().\n",
      "  y = column_or_1d(y, warn=True)\n"
     ]
    },
    {
     "name": "stdout",
     "output_type": "stream",
     "text": [
      "BernoulliNB\n",
      "------ accuracy ------\n",
      " 0.718864333864937\n",
      "------ roc_auc_score ------\n",
      " 0.7187811724167212\n",
      "\n",
      "\n"
     ]
    },
    {
     "name": "stderr",
     "output_type": "stream",
     "text": [
      "/Users/brittanyfowle/opt/anaconda3/lib/python3.7/site-packages/ipykernel_launcher.py:99: DataConversionWarning: A column-vector y was passed when a 1d array was expected. Please change the shape of y to (n_samples, ), for example using ravel().\n"
     ]
    },
    {
     "name": "stdout",
     "output_type": "stream",
     "text": [
      "KNeighborsClassifier\n",
      "------ accuracy ------\n",
      " 0.7258868622431885\n",
      "------ roc_auc_score ------\n",
      " 0.7258553149456006\n",
      "\n",
      "\n"
     ]
    },
    {
     "name": "stderr",
     "output_type": "stream",
     "text": [
      "/Users/brittanyfowle/opt/anaconda3/lib/python3.7/site-packages/sklearn/ensemble/forest.py:245: FutureWarning: The default value of n_estimators will change from 10 in version 0.20 to 100 in 0.22.\n",
      "  \"10 in version 0.20 to 100 in 0.22.\", FutureWarning)\n",
      "/Users/brittanyfowle/opt/anaconda3/lib/python3.7/site-packages/ipykernel_launcher.py:99: DataConversionWarning: A column-vector y was passed when a 1d array was expected. Please change the shape of y to (n_samples,), for example using ravel().\n"
     ]
    },
    {
     "name": "stdout",
     "output_type": "stream",
     "text": [
      "RandomForestClassifier\n",
      "------ accuracy ------\n",
      " 0.7105954407172628\n",
      "------ roc_auc_score ------\n",
      " 0.710585295366922\n",
      "\n",
      "\n"
     ]
    }
   ],
   "source": [
    "fi.simple_test()"
   ]
  },
  {
   "cell_type": "code",
   "execution_count": 50,
   "metadata": {},
   "outputs": [],
   "source": [
    "#split into train/test samples\n",
    "x_train, x_valid, y_train, y_valid = train_test_split(stand_X, y, test_size=0.3, random_state=random_state)"
   ]
  },
  {
   "cell_type": "code",
   "execution_count": 51,
   "metadata": {},
   "outputs": [
    {
     "name": "stdout",
     "output_type": "stream",
     "text": [
      "RandomForestClassifier(bootstrap=True, class_weight=None, criterion='gini',\n",
      "                       max_depth=None, max_features='auto', max_leaf_nodes=None,\n",
      "                       min_impurity_decrease=0.0, min_impurity_split=None,\n",
      "                       min_samples_leaf=1, min_samples_split=2,\n",
      "                       min_weight_fraction_leaf=0.0, n_estimators='warn',\n",
      "                       n_jobs=None, oob_score=False, random_state=None,\n",
      "                       verbose=0, warm_start=False)\n"
     ]
    },
    {
     "name": "stderr",
     "output_type": "stream",
     "text": [
      "/Users/brittanyfowle/opt/anaconda3/lib/python3.7/site-packages/sklearn/model_selection/_search.py:715: DataConversionWarning: A column-vector y was passed when a 1d array was expected. Please change the shape of y to (n_samples,), for example using ravel().\n",
      "  self.best_estimator_.fit(X, y, **fit_params)\n"
     ]
    },
    {
     "name": "stdout",
     "output_type": "stream",
     "text": [
      "best score / best params:  0.7586714913414319 {'max_depth': 9, 'max_features': 0.25, 'n_estimators': 60}\n",
      "classification_report: \n",
      "               precision    recall  f1-score   support\n",
      "\n",
      "           0       0.71      0.79      0.75     67261\n",
      "           1       0.81      0.74      0.77     81973\n",
      "\n",
      "    accuracy                           0.76    149234\n",
      "   macro avg       0.76      0.76      0.76    149234\n",
      "weighted avg       0.77      0.76      0.76    149234\n",
      "\n",
      "accuracy_score:  0.760965999705161\n",
      "roc_auc_score:  0.7633376885527625\n"
     ]
    }
   ],
   "source": [
    "#Test the current set of features on effective models with the selection of hyperparameters\n",
    "r_for = RandomForestClassifier()\n",
    "print(r_for)\n",
    "for_params = {'max_depth': np.arange(4, 10), 'max_features': np.arange(0.25, 0.5, 1), 'n_estimators': [30, 50, 60]}\n",
    "for_grid = GridSearchCV(r_for, for_params, cv=2, n_jobs=-1)\n",
    "for_grid.fit(x_train, y_train)\n",
    "print('best score / best params: ', for_grid.best_score_, for_grid.best_params_)\n",
    "y_pred = for_grid.predict(x_valid)\n",
    "print('classification_report: \\n', metrics.classification_report(y_pred, y_valid))\n",
    "print('accuracy_score: ', metrics.accuracy_score(y_pred, y_valid))\n",
    "print('roc_auc_score: ', metrics.roc_auc_score(y_pred, y_valid))"
   ]
  },
  {
   "cell_type": "code",
   "execution_count": 52,
   "metadata": {},
   "outputs": [
    {
     "name": "stderr",
     "output_type": "stream",
     "text": [
      "/Users/brittanyfowle/opt/anaconda3/lib/python3.7/site-packages/sklearn/linear_model/logistic.py:432: FutureWarning: Default solver will be changed to 'lbfgs' in 0.22. Specify a solver to silence this warning.\n",
      "  FutureWarning)\n",
      "/Users/brittanyfowle/opt/anaconda3/lib/python3.7/site-packages/sklearn/utils/validation.py:724: DataConversionWarning: A column-vector y was passed when a 1d array was expected. Please change the shape of y to (n_samples, ), for example using ravel().\n",
      "  y = column_or_1d(y, warn=True)\n"
     ]
    },
    {
     "name": "stdout",
     "output_type": "stream",
     "text": [
      "best score / best params:  0.7296459033341949 {'C': 0.01, 'penalty': 'l2'}\n",
      "classification_report: \n",
      "               precision    recall  f1-score   support\n",
      "\n",
      "           0       0.69      0.75      0.72     69103\n",
      "           1       0.77      0.72      0.74     80131\n",
      "\n",
      "    accuracy                           0.73    149234\n",
      "   macro avg       0.73      0.73      0.73    149234\n",
      "weighted avg       0.73      0.73      0.73    149234\n",
      "\n",
      "accuracy_score:  0.7300615141321682\n",
      "roc_auc_score:  0.7311833344758802\n"
     ]
    }
   ],
   "source": [
    "log_r = LogisticRegression()\n",
    "grid_values = {'penalty': ['l2'], 'C': [0.0001, 0.001, 0.01, 0.1]}\n",
    "lr_grid = GridSearchCV(log_r, param_grid=grid_values, cv=2, n_jobs=-1)\n",
    "lr_grid.fit(x_train, y_train)\n",
    "print('best score / best params: ', lr_grid.best_score_, lr_grid.best_params_)\n",
    "y_pred = lr_grid.predict(x_valid)\n",
    "print('classification_report: \\n', metrics.classification_report(y_pred, y_valid))\n",
    "print('accuracy_score: ', metrics.accuracy_score(y_pred, y_valid))\n",
    "print('roc_auc_score: ', metrics.roc_auc_score(y_pred, y_valid))"
   ]
  },
  {
   "cell_type": "code",
   "execution_count": null,
   "metadata": {},
   "outputs": [],
   "source": []
  }
 ],
 "metadata": {
  "kernelspec": {
   "display_name": "Python 3",
   "language": "python",
   "name": "python3"
  },
  "language_info": {
   "codemirror_mode": {
    "name": "ipython",
    "version": 3
   },
   "file_extension": ".py",
   "mimetype": "text/x-python",
   "name": "python",
   "nbconvert_exporter": "python",
   "pygments_lexer": "ipython3",
   "version": "3.7.4"
  }
 },
 "nbformat": 4,
 "nbformat_minor": 2
}
